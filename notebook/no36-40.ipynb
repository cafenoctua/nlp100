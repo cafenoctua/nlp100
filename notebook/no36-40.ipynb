{
 "cells": [
  {
   "cell_type": "markdown",
   "metadata": {},
   "source": [
    "# No35"
   ]
  },
  {
   "cell_type": "code",
   "execution_count": 1,
   "metadata": {},
   "outputs": [
    {
     "name": "stdout",
     "output_type": "stream",
     "text": [
      "Collecting mecab-python3\n",
      "  Downloading mecab_python3-0.996.5-cp37-cp37m-manylinux2010_x86_64.whl (17.1 MB)\n",
      "\u001b[K     |████████████████████████████████| 17.1 MB 9.5 MB/s eta 0:00:01\n",
      "\u001b[?25hInstalling collected packages: mecab-python3\n",
      "Successfully installed mecab-python3-0.996.5\n"
     ]
    }
   ],
   "source": [
    "!pip install mecab-python3"
   ]
  },
  {
   "cell_type": "code",
   "execution_count": 76,
   "metadata": {},
   "outputs": [],
   "source": [
    "import MeCab\n",
    "\n",
    "with open('./neko.txt') as f:\n",
    "    neko = f.read()\n",
    "\n",
    "t = MeCab.Tagger('')\n",
    "\n",
    "with open('./neko.txt.mecab', mode='w') as f:\n",
    "    f.write(t.parse(neko))"
   ]
  },
  {
   "cell_type": "code",
   "execution_count": 77,
   "metadata": {},
   "outputs": [],
   "source": [
    "def neko_lines():\n",
    "\n",
    "    with open('./neko.txt.mecab') as f:\n",
    "        morphemes = []\n",
    "        for line in f:\n",
    "            cols = line.split('\\t')\n",
    "            if (len(cols) < 2):\n",
    "                raise StopIteration\n",
    "            res_cols = cols[1].split(',')\n",
    "\n",
    "            morpheme = {\n",
    "                'surface': cols[0],\n",
    "                'base': res_cols[6],\n",
    "                'pos': res_cols[0],\n",
    "                'pos1': res_cols[1],\n",
    "            }\n",
    "\n",
    "            morphemes.append(morpheme)\n",
    "            \n",
    "            # 句点で一文と判定させる\n",
    "            if res_cols[1] == '句点':\n",
    "                # yieldで一文をシーケンスとして持たせてその後変数を初期化する\n",
    "                yield morphemes\n",
    "                morphemes = []\n",
    "lines = neko_lines()\n",
    "for i, line in enumerate(lines):\n",
    "#     print(line)\n",
    "    if i > 50:\n",
    "        break"
   ]
  },
  {
   "cell_type": "code",
   "execution_count": 64,
   "metadata": {},
   "outputs": [],
   "source": [
    "lines = neko_lines()\n",
    "tmp_dict = {}\n",
    "for i, line in enumerate(lines):\n",
    "#     print(line)\n",
    "    for sentense in line:\n",
    "#         print(sentense['surface'])\n",
    "        if sentense['surface'] in tmp_dict.keys():\n",
    "            tmp_dict[sentense['surface']] += 1\n",
    "        else:\n",
    "            tmp_dict[sentense['surface']] = 1\n",
    "        \n",
    "#         if sentense['surface']\n",
    "#     tmp_list.append(line)\n",
    "    \n",
    "#     if i > 10000:\n",
    "#         break\n",
    "\n",
    "import operator\n",
    "word_list = sorted(tmp_dict.items(), key=operator.itemgetter(1),reverse=True)\n",
    "key_list = []\n",
    "val_list = []\n",
    "for word in word_list:\n",
    "    key_list.append(word[0])\n",
    "    val_list.append(word[1])"
   ]
  },
  {
   "cell_type": "code",
   "execution_count": 60,
   "metadata": {},
   "outputs": [],
   "source": [
    "cnt_list = sorted(tmp_dict.values(), reverse=True)"
   ]
  },
  {
   "cell_type": "markdown",
   "metadata": {},
   "source": [
    "# No36"
   ]
  },
  {
   "cell_type": "code",
   "execution_count": 65,
   "metadata": {},
   "outputs": [
    {
     "data": {
      "text/plain": [
       "<BarContainer object of 10 artists>"
      ]
     },
     "execution_count": 65,
     "metadata": {},
     "output_type": "execute_result"
    },
    {
     "data": {
      "image/png": "[encoded data removed]",
      "text/plain": [
       "<Figure size 432x288 with 1 Axes>"
      ]
     },
     "metadata": {
      "needs_background": "light"
     },
     "output_type": "display_data"
    }
   ],
   "source": [
    "import matplotlib.pyplot as plt\n",
    "\n",
    "plt.bar(key_list[:10], val_list[:10])"
   ]
  },
  {
   "cell_type": "code",
   "execution_count": 70,
   "metadata": {},
   "outputs": [
    {
     "name": "stdout",
     "output_type": "stream",
     "text": [
      "Collecting japanize_matplotlib\n",
      "  Downloading japanize-matplotlib-1.1.2.tar.gz (4.1 MB)\n",
      "\u001b[K     |████████████████████████████████| 4.1 MB 3.4 MB/s eta 0:00:01\n",
      "\u001b[?25hRequirement already satisfied: matplotlib in /opt/anaconda3/lib/python3.7/site-packages (from japanize_matplotlib) (3.1.1)\n",
      "Requirement already satisfied: cycler>=0.10 in /opt/anaconda3/lib/python3.7/site-packages (from matplotlib->japanize_matplotlib) (0.10.0)\n",
      "Requirement already satisfied: kiwisolver>=1.0.1 in /opt/anaconda3/lib/python3.7/site-packages (from matplotlib->japanize_matplotlib) (1.1.0)\n",
      "Requirement already satisfied: pyparsing!=2.0.4,!=2.1.2,!=2.1.6,>=2.0.1 in /opt/anaconda3/lib/python3.7/site-packages (from matplotlib->japanize_matplotlib) (2.4.2)\n",
      "Requirement already satisfied: python-dateutil>=2.1 in /opt/anaconda3/lib/python3.7/site-packages (from matplotlib->japanize_matplotlib) (2.8.0)\n",
      "Requirement already satisfied: numpy>=1.11 in /opt/anaconda3/lib/python3.7/site-packages (from matplotlib->japanize_matplotlib) (1.17.2)\n",
      "Requirement already satisfied: six in /opt/anaconda3/lib/python3.7/site-packages (from cycler>=0.10->matplotlib->japanize_matplotlib) (1.12.0)\n",
      "Requirement already satisfied: setuptools in /opt/anaconda3/lib/python3.7/site-packages (from kiwisolver>=1.0.1->matplotlib->japanize_matplotlib) (41.4.0)\n",
      "Building wheels for collected packages: japanize-matplotlib\n",
      "  Building wheel for japanize-matplotlib (setup.py) ... \u001b[?25ldone\n",
      "\u001b[?25h  Created wheel for japanize-matplotlib: filename=japanize_matplotlib-1.1.2-py3-none-any.whl size=4120190 sha256=bf468b69add7963050e44ed11654f093f1d70254f697c7090d8e152611e891fe\n",
      "  Stored in directory: /root/.cache/pip/wheels/b8/71/bc/6a1a58cd7cc4bce671a46deb4ded4d1ef1d7327209d5ab4680\n",
      "Successfully built japanize-matplotlib\n",
      "Installing collected packages: japanize-matplotlib\n",
      "Successfully installed japanize-matplotlib-1.1.2\n"
     ]
    }
   ],
   "source": [
    "!pip install japanize_matplotlib"
   ]
  },
  {
   "cell_type": "code",
   "execution_count": 71,
   "metadata": {},
   "outputs": [
    {
     "data": {
      "image/png": "[encoded data removed]",
      "text/plain": [
       "<Figure size 576x576 with 1 Axes>"
      ]
     },
     "metadata": {
      "needs_background": "light"
     },
     "output_type": "display_data"
    }
   ],
   "source": [
    "from collections import defaultdict\n",
    "import matplotlib.pyplot as plt\n",
    "import japanize_matplotlib\n",
    "\n",
    "\n",
    "def parseMecab(block):\n",
    "    res = []\n",
    "    for line in block.split('\\n'):\n",
    "        if line == '':\n",
    "            return res\n",
    "        (surface, attr) = line.split('\\t')\n",
    "        attr = attr.split(',')\n",
    "        lineDict = {\n",
    "            'surface': surface,\n",
    "            'base': attr[6],\n",
    "            'pos': attr[0],\n",
    "            'pos1': attr[1]\n",
    "        }\n",
    "        res.append(lineDict)\n",
    "\n",
    "\n",
    "def extract(block):\n",
    "    return [b['base'] + '_' + b['pos'] + '_' + b['pos1'] for b in block]\n",
    "\n",
    "\n",
    "filename = 'neko.txt.mecab'\n",
    "with open(filename, mode='rt', encoding='utf-8') as f:\n",
    "    blockList = f.read().split('EOS\\n')\n",
    "blockList = list(filter(lambda x: x != '', blockList))\n",
    "blockList = [parseMecab(block) for block in blockList]\n",
    "wordList = [extract(block) for block in blockList]\n",
    "d = defaultdict(int)\n",
    "for word in wordList:\n",
    "    for w in word:\n",
    "        d[w] += 1\n",
    "ans = sorted(d.items(), key=lambda x: x[1], reverse=True)[:10]\n",
    "labels = [a[0] for a in ans]\n",
    "values = [a[1] for a in ans]\n",
    "plt.figure(figsize=(8, 8))\n",
    "plt.barh(labels, values)\n",
    "plt.show()"
   ]
  },
  {
   "cell_type": "markdown",
   "metadata": {},
   "source": [
    "# No37"
   ]
  },
  {
   "cell_type": "code",
   "execution_count": 85,
   "metadata": {},
   "outputs": [
    {
     "data": {
      "image/png": "[encoded data removed]",
      "text/plain": [
       "<Figure size 576x576 with 1 Axes>"
      ]
     },
     "metadata": {
      "needs_background": "light"
     },
     "output_type": "display_data"
    }
   ],
   "source": [
    "from collections import defaultdict\n",
    "import matplotlib.pyplot as plt\n",
    "import japanize_matplotlib\n",
    "\n",
    "\n",
    "def parseMecab(block):\n",
    "    res = []\n",
    "    for line in block.split('\\n'):\n",
    "        if line == '':\n",
    "            return res\n",
    "        (surface, attr) = line.split('\\t')\n",
    "        attr = attr.split(',')\n",
    "        lineDict = {\n",
    "            'surface': surface,\n",
    "            'base': attr[6],\n",
    "            'pos': attr[0],\n",
    "            'pos1': attr[1]\n",
    "        }\n",
    "        res.append(lineDict)\n",
    "\n",
    "\n",
    "def extract(block):\n",
    "#     return [b['base'] + '_' + b['pos'] + '_' + b['pos1'] for b in block]\n",
    "    return [b['base'] for b in block]\n",
    "\n",
    "\n",
    "filename = 'neko.txt.mecab'\n",
    "with open(filename, mode='rt', encoding='utf-8') as f:\n",
    "    blockList = f.read().split('EOS\\n')\n",
    "blockList = list(filter(lambda x: x != '', blockList))\n",
    "blockList = [parseMecab(block) for block in blockList]\n",
    "wordList = [extract(block) for block in blockList]\n",
    "wordList = list(filter(lambda x: '猫' in x, wordList))\n",
    "# print(wo)\n",
    "d = defaultdict(int)\n",
    "for word in wordList:\n",
    "    for w in word:\n",
    "        if w != '猫':\n",
    "            d[w] += 1\n",
    "ans = sorted(d.items(), key=lambda x: x[1], reverse=True)[:10]\n",
    "labels = [a[0] for a in ans]\n",
    "values = [a[1] for a in ans]\n",
    "plt.figure(figsize=(8, 8))\n",
    "plt.barh(labels, values)\n",
    "plt.show()"
   ]
  },
  {
   "cell_type": "markdown",
   "metadata": {},
   "source": [
    "# No38"
   ]
  },
  {
   "cell_type": "code",
   "execution_count": 88,
   "metadata": {},
   "outputs": [
    {
     "data": {
      "image/png": "[encoded data removed]",
      "text/plain": [
       "<Figure size 576x576 with 1 Axes>"
      ]
     },
     "metadata": {
      "needs_background": "light"
     },
     "output_type": "display_data"
    }
   ],
   "source": [
    "from collections import defaultdict\n",
    "import matplotlib.pyplot as plt\n",
    "import japanize_matplotlib\n",
    "\n",
    "\n",
    "def parseMecab(block):\n",
    "    res = []\n",
    "    for line in block.split('\\n'):\n",
    "        if line == '':\n",
    "            return res\n",
    "        (surface, attr) = line.split('\\t')\n",
    "        attr = attr.split(',')\n",
    "        lineDict = {\n",
    "            'surface': surface,\n",
    "            'base': attr[6],\n",
    "            'pos': attr[0],\n",
    "            'pos1': attr[1]\n",
    "        }\n",
    "        res.append(lineDict)\n",
    "\n",
    "\n",
    "def extract(block):\n",
    "    return [b['base'] + '_' + b['pos'] + '_' + b['pos1'] for b in block]\n",
    "\n",
    "\n",
    "filename = 'neko.txt.mecab'\n",
    "with open(filename, mode='rt', encoding='utf-8') as f:\n",
    "    blockList = f.read().split('EOS\\n')\n",
    "blockList = list(filter(lambda x: x != '', blockList))\n",
    "blockList = [parseMecab(block) for block in blockList]\n",
    "wordList = [extract(block) for block in blockList]\n",
    "d = defaultdict(int)\n",
    "for word in wordList:\n",
    "    for w in word:\n",
    "        d[w] += 1\n",
    "ans = sorted(d.items(), key=lambda x: x[1], reverse=True)[:]\n",
    "labels = [a[0] for a in ans]\n",
    "values = [a[1] for a in ans]\n",
    "plt.figure(figsize=(8, 8))\n",
    "plt.hist(values)\n",
    "plt.show()\n"
   ]
  },
  {
   "cell_type": "markdown",
   "metadata": {},
   "source": [
    "# No39"
   ]
  },
  {
   "cell_type": "code",
   "execution_count": 90,
   "metadata": {},
   "outputs": [
    {
     "data": {
      "image/png": "[encoded data removed]",
      "text/plain": [
       "<Figure size 576x576 with 1 Axes>"
      ]
     },
     "metadata": {
      "needs_background": "light"
     },
     "output_type": "display_data"
    }
   ],
   "source": [
    "import math\n",
    "from collections import defaultdict\n",
    "import matplotlib.pyplot as plt\n",
    "\n",
    "\n",
    "def parseMecab(block):\n",
    "    res = []\n",
    "    for line in block.split('\\n'):\n",
    "        if line == '':\n",
    "            return res\n",
    "        (surface, attr) = line.split('\\t')\n",
    "        attr = attr.split(',')\n",
    "        lineDict = {\n",
    "            'surface': surface,\n",
    "            'base': attr[6],\n",
    "            'pos': attr[0],\n",
    "            'pos1': attr[1]\n",
    "        }\n",
    "        res.append(lineDict)\n",
    "\n",
    "\n",
    "def extract(block):\n",
    "    return [b['base'] + '_' + b['pos'] + '_' + b['pos1'] for b in block]\n",
    "\n",
    "\n",
    "filename = 'neko.txt.mecab'\n",
    "with open(filename, mode='rt', encoding='utf-8') as f:\n",
    "    blockList = f.read().split('EOS\\n')\n",
    "blockList = list(filter(lambda x: x != '', blockList))\n",
    "blockList = [parseMecab(block) for block in blockList]\n",
    "wordList = [extract(block) for block in blockList]\n",
    "d = defaultdict(int)\n",
    "for word in wordList:\n",
    "    for w in word:\n",
    "        d[w] += 1\n",
    "ans = sorted(d.items(), key=lambda x: x[1], reverse=True)\n",
    "ranks = [math.log(r + 1) for r in range(len(ans))]\n",
    "values = [math.log(a[1]) for a in ans]\n",
    "plt.figure(figsize=(8, 8))\n",
    "plt.scatter(ranks, values)\n",
    "plt.show()"
   ]
  },
  {
   "cell_type": "code",
   "execution_count": null,
   "metadata": {},
   "outputs": [],
   "source": []
  }
 ],
 "metadata": {
  "kernelspec": {
   "display_name": "Python 3",
   "language": "python",
   "name": "python3"
  },
  "language_info": {
   "codemirror_mode": {
    "name": "ipython",
    "version": 3
   },
   "file_extension": ".py",
   "mimetype": "text/x-python",
   "name": "python",
   "nbconvert_exporter": "python",
   "pygments_lexer": "ipython3",
   "version": "3.7.4"
  }
 },
 "nbformat": 4,
 "nbformat_minor": 4
}
