{
 "cells": [
  {
   "cell_type": "markdown",
   "metadata": {},
   "source": [
    "# No70"
   ]
  },
  {
   "cell_type": "code",
   "execution_count": 1,
   "metadata": {},
   "outputs": [
    {
     "name": "stdout",
     "output_type": "stream",
     "text": [
      "学習データ\n",
      "b    4146\n",
      "e    1402\n",
      "t     838\n",
      "m     461\n",
      "Name: CATEGORY, dtype: int64\n",
      "検証データ\n",
      "b    518\n",
      "e    175\n",
      "t    105\n",
      "m     58\n",
      "Name: CATEGORY, dtype: int64\n",
      "評価データ\n",
      "b    519\n",
      "e    175\n",
      "t    105\n",
      "m     57\n",
      "Name: CATEGORY, dtype: int64\n"
     ]
    }
   ],
   "source": [
    "import pandas as pd\n",
    "from sklearn.model_selection import train_test_split\n",
    "\n",
    "df = pd.read_csv('./newsCorpora_re.csv', header=None, sep='\\t', names=['ID', 'TITLE', 'URL', 'PUBLISHER', 'CATEGORY', 'STORY', 'HOSTNAME', 'TIMESTAMP'])\n",
    "\n",
    "df = df.loc[df['PUBLISHER'].isin(['Reuters', 'Hufftington Post', 'Businessweek', 'Contactmusic', 'Daily Mail']), ['TITLE', 'CATEGORY']]\n",
    "\n",
    "train, valid_test = train_test_split(df, test_size=0.2, shuffle=True, random_state=123, stratify=df['CATEGORY'])\n",
    "valid, test = train_test_split(valid_test, test_size=0.5, shuffle=True, random_state=123, stratify=valid_test['CATEGORY'])\n",
    "\n",
    "print('学習データ')\n",
    "print(train['CATEGORY'].value_counts())\n",
    "print('検証データ')\n",
    "print(valid['CATEGORY'].value_counts())\n",
    "print('評価データ')\n",
    "print(test['CATEGORY'].value_counts())"
   ]
  },
  {
   "cell_type": "code",
   "execution_count": 2,
   "metadata": {},
   "outputs": [],
   "source": [
    "from gensim.models import KeyedVectors\n",
    "\n",
    "model = KeyedVectors.load_word2vec_format('./GoogleNews-vectors-negative300.bin.gz', binary=True)"
   ]
  },
  {
   "cell_type": "code",
   "execution_count": 3,
   "metadata": {},
   "outputs": [
    {
     "name": "stdout",
     "output_type": "stream",
     "text": [
      "Collecting package metadata (current_repodata.json): done\n",
      "Solving environment: done\n",
      "\n",
      "## Package Plan ##\n",
      "\n",
      "  environment location: /opt/anaconda3\n",
      "\n",
      "  added / updated specs:\n",
      "    - cpuonly\n",
      "    - pytorch==1.2.0\n",
      "    - torchvision==0.4.0\n",
      "\n",
      "\n",
      "The following packages will be downloaded:\n",
      "\n",
      "    package                    |            build\n",
      "    ---------------------------|-----------------\n",
      "    conda-4.8.3                |           py37_0         2.8 MB\n",
      "    cpuonly-1.0                |                0           2 KB  pytorch\n",
      "    ninja-1.9.0                |   py37hfd86e86_0         1.2 MB\n",
      "    pytorch-1.2.0              |      py3.7_cpu_0        31.3 MB  pytorch\n",
      "    torchvision-0.4.0          |         py37_cpu        13.2 MB  pytorch\n",
      "    ------------------------------------------------------------\n",
      "                                           Total:        48.6 MB\n",
      "\n",
      "The following NEW packages will be INSTALLED:\n",
      "\n",
      "  cpuonly            pytorch/noarch::cpuonly-1.0-0\n",
      "  ninja              pkgs/main/linux-64::ninja-1.9.0-py37hfd86e86_0\n",
      "  pytorch            pytorch/linux-64::pytorch-1.2.0-py3.7_cpu_0\n",
      "  torchvision        pytorch/linux-64::torchvision-0.4.0-py37_cpu\n",
      "\n",
      "The following packages will be UPDATED:\n",
      "\n",
      "  conda                                       4.7.12-py37_0 --> 4.8.3-py37_0\n",
      "\n",
      "\n",
      "\n",
      "Downloading and Extracting Packages\n",
      "cpuonly-1.0          | 2 KB      | ##################################### | 100% \n",
      "ninja-1.9.0          | 1.2 MB    | ##################################### | 100% \n",
      "conda-4.8.3          | 2.8 MB    | ##################################### | 100% \n",
      "pytorch-1.2.0        | 31.3 MB   | ##################################### | 100% \n",
      "torchvision-0.4.0    | 13.2 MB   | ##################################### | 100% \n",
      "Preparing transaction: done\n",
      "Verifying transaction: done\n",
      "Executing transaction: done\n"
     ]
    }
   ],
   "source": [
    "!conda install -y pytorch==1.2.0 torchvision==0.4.0 cpuonly -c pytorch"
   ]
  },
  {
   "cell_type": "code",
   "execution_count": 4,
   "metadata": {},
   "outputs": [],
   "source": [
    "import string\n",
    "import torch\n",
    "\n",
    "def transform_w2v(text):\n",
    "    table = str.maketrans(string.punctuation, ' '*len(string.punctuation))\n",
    "    words = text.translate(table).split()\n",
    "    vec = [model[word] for word in words if word in model]\n",
    "    \n",
    "    return torch.tensor(sum(vec) / len(vec))\n",
    "    "
   ]
  },
  {
   "cell_type": "code",
   "execution_count": 5,
   "metadata": {},
   "outputs": [
    {
     "name": "stdout",
     "output_type": "stream",
     "text": [
      "torch.Size([6847, 300])\n",
      "tensor([[-0.0925, -0.1212, -0.0642,  ...,  0.0520,  0.0165,  0.0080],\n",
      "        [ 0.0131, -0.0258, -0.0540,  ...,  0.0667,  0.1395, -0.0204],\n",
      "        [-0.0159,  0.0469, -0.0645,  ..., -0.1019,  0.0352,  0.0391],\n",
      "        ...,\n",
      "        [ 0.0860,  0.0691, -0.0366,  ...,  0.0247,  0.0876,  0.0540],\n",
      "        [ 0.0591,  0.0206, -0.0151,  ..., -0.0520,  0.1198,  0.0946],\n",
      "        [-0.0196,  0.1300, -0.0150,  ..., -0.1004, -0.0376, -0.0172]])\n"
     ]
    }
   ],
   "source": [
    "X_train = torch.stack([transform_w2v(text) for text in train['TITLE']])\n",
    "X_valid = torch.stack([transform_w2v(text) for text in valid['TITLE']])\n",
    "X_test = torch.stack([transform_w2v(text) for text in test['TITLE']])\n",
    "\n",
    "print(X_train.size())\n",
    "print(X_train)"
   ]
  },
  {
   "cell_type": "code",
   "execution_count": 6,
   "metadata": {},
   "outputs": [
    {
     "name": "stdout",
     "output_type": "stream",
     "text": [
      "torch.Size([6847])\n",
      "tensor([0, 0, 2,  ..., 2, 2, 2])\n"
     ]
    }
   ],
   "source": [
    "category_dict = {'b':0, 't':1, 'e':2, 'm':3}\n",
    "y_train = torch.tensor(train['CATEGORY'].map(lambda x: category_dict[x]).values)\n",
    "y_valid = torch.tensor(valid['CATEGORY'].map(lambda x: category_dict[x]).values)\n",
    "y_test = torch.tensor(test['CATEGORY'].map(lambda x: category_dict[x]).values)\n",
    "\n",
    "print(y_train.size())\n",
    "print(y_train)"
   ]
  },
  {
   "cell_type": "code",
   "execution_count": 7,
   "metadata": {},
   "outputs": [],
   "source": [
    "torch.save(X_train, 'X_train.pt')\n",
    "torch.save(X_valid, 'X_valid.pt')\n",
    "torch.save(X_test, 'X_tset.pt')\n",
    "torch.save(y_train, 'y_train.pt')\n",
    "torch.save(y_valid, 'y_valid.pt')\n",
    "torch.save(y_test, 'y_tset.pt')"
   ]
  },
  {
   "cell_type": "markdown",
   "metadata": {},
   "source": [
    "# No71"
   ]
  },
  {
   "cell_type": "code",
   "execution_count": 8,
   "metadata": {},
   "outputs": [],
   "source": [
    "from torch import nn\n",
    "\n",
    "class SLPNet(nn.Module):\n",
    "    def __init__(self, input_size, output_size):\n",
    "        super().__init__()\n",
    "        self.fc = nn.Linear(input_size, output_size, bias=False)\n",
    "        nn.init.normal_(self.fc.weight, 0.0, 1.0)\n",
    "        \n",
    "    def forward(self, x):\n",
    "        x = self.fc(x)\n",
    "        return x"
   ]
  },
  {
   "cell_type": "code",
   "execution_count": 9,
   "metadata": {},
   "outputs": [
    {
     "name": "stdout",
     "output_type": "stream",
     "text": [
      "tensor([[0.0604, 0.0182, 0.3144, 0.6069]], grad_fn=<SoftmaxBackward>)\n"
     ]
    }
   ],
   "source": [
    "model = SLPNet(300, 4)\n",
    "y_hat_1 = torch.softmax(model.forward(X_train[:1]), dim=-1)\n",
    "print(y_hat_1)"
   ]
  },
  {
   "cell_type": "code",
   "execution_count": 10,
   "metadata": {},
   "outputs": [
    {
     "name": "stdout",
     "output_type": "stream",
     "text": [
      "tensor([[0.0604, 0.0182, 0.3144, 0.6069],\n",
      "        [0.1221, 0.1823, 0.4083, 0.2872],\n",
      "        [0.1600, 0.1312, 0.4205, 0.2883],\n",
      "        [0.2435, 0.1474, 0.4658, 0.1433]], grad_fn=<SoftmaxBackward>)\n"
     ]
    }
   ],
   "source": [
    "Y_hat = torch.softmax(model.forward(X_train[:4]), dim=-1)\n",
    "\n",
    "print(Y_hat)"
   ]
  },
  {
   "cell_type": "markdown",
   "metadata": {},
   "source": [
    "# No72"
   ]
  },
  {
   "cell_type": "code",
   "execution_count": 11,
   "metadata": {},
   "outputs": [],
   "source": [
    "criterion = nn.CrossEntropyLoss()"
   ]
  },
  {
   "cell_type": "code",
   "execution_count": 12,
   "metadata": {},
   "outputs": [
    {
     "name": "stdout",
     "output_type": "stream",
     "text": [
      "損失:  2.8063\n",
      "勾配:\n",
      "tensor([[ 0.0869,  0.1138,  0.0603,  ..., -0.0488, -0.0155, -0.0075],\n",
      "        [-0.0017, -0.0022, -0.0012,  ...,  0.0009,  0.0003,  0.0001],\n",
      "        [-0.0291, -0.0381, -0.0202,  ...,  0.0163,  0.0052,  0.0025],\n",
      "        [-0.0561, -0.0735, -0.0390,  ...,  0.0315,  0.0100,  0.0049]])\n"
     ]
    }
   ],
   "source": [
    "l_1 = criterion(model.forward(X_train[:1]), y_train[:1])\n",
    "model.zero_grad()\n",
    "l_1.backward()\n",
    "print(f'損失: {l_1: .4f}')\n",
    "print(f'勾配:\\n{model.fc.weight.grad}')"
   ]
  },
  {
   "cell_type": "code",
   "execution_count": 13,
   "metadata": {},
   "outputs": [
    {
     "name": "stdout",
     "output_type": "stream",
     "text": [
      "損失:  1.7970\n",
      "勾配:\n",
      "tensor([[ 0.0111,  0.0341,  0.0303,  ..., -0.0152, -0.0480,  0.0245],\n",
      "        [ 0.0010,  0.0002, -0.0060,  ..., -0.0031,  0.0105, -0.0036],\n",
      "        [ 0.0007, -0.0178, -0.0049,  ...,  0.0160,  0.0196, -0.0197],\n",
      "        [-0.0129, -0.0165, -0.0194,  ...,  0.0024,  0.0179, -0.0013]])\n"
     ]
    }
   ],
   "source": [
    "l_1 = criterion(model.forward(X_train[:4]), y_train[:4])\n",
    "model.zero_grad()\n",
    "l_1.backward()\n",
    "print(f'損失: {l_1: .4f}')\n",
    "print(f'勾配:\\n{model.fc.weight.grad}')"
   ]
  },
  {
   "cell_type": "markdown",
   "metadata": {},
   "source": [
    "# No73"
   ]
  },
  {
   "cell_type": "code",
   "execution_count": 14,
   "metadata": {},
   "outputs": [],
   "source": [
    "from torch.utils.data import Dataset\n",
    "\n",
    "class CreateDataset(Dataset):\n",
    "    def __init__(self, X, y):\n",
    "        self.X = X\n",
    "        self.y = y\n",
    "    \n",
    "    def __len__(self):\n",
    "        return len(self.y)\n",
    "    \n",
    "    def __getitem__(self, idx):\n",
    "        return [self.X[idx], self.y[idx]]"
   ]
  },
  {
   "cell_type": "code",
   "execution_count": 15,
   "metadata": {},
   "outputs": [],
   "source": [
    "from torch.utils.data import DataLoader\n",
    "\n",
    "dataset_train = CreateDataset(X_train, y_train)\n",
    "dataset_valid = CreateDataset(X_valid, y_valid)\n",
    "dataset_test = CreateDataset(X_test, y_test)\n",
    "\n",
    "\n",
    "dataloader_train = DataLoader(dataset_train, batch_size=1, shuffle=True)\n",
    "dataloader_valid = DataLoader(dataset_valid, batch_size=len(dataset_valid), shuffle=True)\n",
    "dataloader_test = DataLoader(dataset_test, batch_size=len(dataset_test), shuffle=True)"
   ]
  },
  {
   "cell_type": "code",
   "execution_count": 16,
   "metadata": {},
   "outputs": [
    {
     "name": "stdout",
     "output_type": "stream",
     "text": [
      "epoch: 1, loss_train:  0.4791, loss_valid:  0.3527\n",
      "epoch: 2, loss_train:  0.3156, loss_valid:  0.3135\n",
      "epoch: 3, loss_train:  0.2834, loss_valid:  0.2986\n",
      "epoch: 4, loss_train:  0.2627, loss_valid:  0.2895\n",
      "epoch: 5, loss_train:  0.2528, loss_valid:  0.2867\n",
      "epoch: 6, loss_train:  0.2434, loss_valid:  0.2832\n",
      "epoch: 7, loss_train:  0.2370, loss_valid:  0.2795\n",
      "epoch: 8, loss_train:  0.2306, loss_valid:  0.2805\n",
      "epoch: 9, loss_train:  0.2251, loss_valid:  0.2821\n",
      "epoch: 10, loss_train:  0.2220, loss_valid:  0.2819\n"
     ]
    }
   ],
   "source": [
    "model = SLPNet(300, 4)\n",
    "\n",
    "# 損失関数の定義\n",
    "criterion = nn.CrossEntropyLoss()\n",
    "\n",
    "# 最適化定義\n",
    "optimizer = torch.optim.SGD(model.parameters(), lr=1e-1)\n",
    "\n",
    "# 学習\n",
    "num_epochs = 10\n",
    "for epoch in range(num_epochs):\n",
    "    model.train()\n",
    "    loss_train = 0.0\n",
    "    for i, (inputs, labels) in enumerate(dataloader_train):\n",
    "        # 勾配を0で初期化する\n",
    "        optimizer.zero_grad()\n",
    "        \n",
    "        # 順伝播 + 誤差逆伝播 + 重み更新\n",
    "        outputs = model.forward(inputs)\n",
    "        loss = criterion(outputs, labels)\n",
    "        loss.backward()\n",
    "        optimizer.step()\n",
    "        \n",
    "        # 損失を記録\n",
    "        loss_train += loss.item()\n",
    "    \n",
    "    # バッチ単位の平均損失計算\n",
    "    loss_train = loss_train / i\n",
    "    \n",
    "    # 検証データの損失計算\n",
    "    model.eval()\n",
    "    with torch.no_grad():\n",
    "        inputs, labels = next(iter(dataloader_valid))\n",
    "        outputs = model.forward(inputs)\n",
    "        loss_valid = criterion(outputs, labels)\n",
    "        \n",
    "    # ログ出力\n",
    "    print(f'epoch: {epoch + 1}, loss_train: {loss_train: .4f}, loss_valid: {loss_valid: .4f}')"
   ]
  },
  {
   "cell_type": "markdown",
   "metadata": {},
   "source": [
    "# No74"
   ]
  },
  {
   "cell_type": "code",
   "execution_count": 17,
   "metadata": {},
   "outputs": [],
   "source": [
    "def calculate_accuracy(model, loader):\n",
    "    model.eval()\n",
    "    total = 0\n",
    "    correct = 0\n",
    "    with torch.no_grad():\n",
    "        for inputs, labels in loader:\n",
    "            outputs = model(inputs)\n",
    "            pred = torch.argmax(outputs, dim=-1)\n",
    "            total += len(inputs)\n",
    "            correct += (pred == labels).sum().item()\n",
    "            \n",
    "    return correct / total"
   ]
  },
  {
   "cell_type": "code",
   "execution_count": 18,
   "metadata": {},
   "outputs": [
    {
     "name": "stdout",
     "output_type": "stream",
     "text": [
      "正解率(学習データ): 0.926\n",
      "正解率(評価データ): 0.891\n"
     ]
    }
   ],
   "source": [
    "acc_train = calculate_accuracy(model, dataloader_train)\n",
    "acc_test = calculate_accuracy(model, dataloader_test)\n",
    "print(f\"正解率(学習データ): {acc_train:.3f}\")\n",
    "print(f\"正解率(評価データ): {acc_test:.3f}\")"
   ]
  },
  {
   "cell_type": "markdown",
   "metadata": {},
   "source": [
    "# No75"
   ]
  },
  {
   "cell_type": "code",
   "execution_count": 20,
   "metadata": {},
   "outputs": [],
   "source": [
    "def calculate_loss_and_accuracy(model, criterion, loader):\n",
    "    model.eval()\n",
    "    loss = 0.0\n",
    "    total = 0\n",
    "    correct = 0\n",
    "    with torch.no_grad():\n",
    "        for inputs, labels in loader:\n",
    "            outputs = model(inputs)\n",
    "            loss += criterion(outputs, labels).item()\n",
    "            pred = torch.argmax(outputs, dim=-1)\n",
    "            total += len(inputs)\n",
    "            correct += (pred == labels).sum().item()\n",
    "            \n",
    "    return loss / len(loader), correct / total"
   ]
  },
  {
   "cell_type": "code",
   "execution_count": 21,
   "metadata": {},
   "outputs": [
    {
     "name": "stdout",
     "output_type": "stream",
     "text": [
      "epoch: 1, loss_train: 0.3478, accuracy_train: 0.8797, loss_valid: 0.3685, accuracy_valid: 0.8657\n",
      "epoch: 2, loss_train: 0.2950, accuracy_train: 0.8997, loss_valid: 0.3176, accuracy_valid: 0.8902\n",
      "epoch: 3, loss_train: 0.2726, accuracy_train: 0.9077, loss_valid: 0.3011, accuracy_valid: 0.8879\n",
      "epoch: 4, loss_train: 0.2576, accuracy_train: 0.9116, loss_valid: 0.2929, accuracy_valid: 0.8995\n",
      "epoch: 5, loss_train: 0.2474, accuracy_train: 0.9124, loss_valid: 0.2851, accuracy_valid: 0.8960\n",
      "epoch: 6, loss_train: 0.2356, accuracy_train: 0.9197, loss_valid: 0.2795, accuracy_valid: 0.9019\n",
      "epoch: 7, loss_train: 0.2297, accuracy_train: 0.9214, loss_valid: 0.2758, accuracy_valid: 0.9007\n",
      "epoch: 8, loss_train: 0.2268, accuracy_train: 0.9257, loss_valid: 0.2757, accuracy_valid: 0.8995\n",
      "epoch: 9, loss_train: 0.2236, accuracy_train: 0.9264, loss_valid: 0.2767, accuracy_valid: 0.9007\n",
      "epoch: 10, loss_train: 0.2190, accuracy_train: 0.9245, loss_valid: 0.2780, accuracy_valid: 0.9065\n",
      "epoch: 11, loss_train: 0.2134, accuracy_train: 0.9292, loss_valid: 0.2747, accuracy_valid: 0.9030\n",
      "epoch: 12, loss_train: 0.2096, accuracy_train: 0.9299, loss_valid: 0.2719, accuracy_valid: 0.9042\n",
      "epoch: 13, loss_train: 0.2070, accuracy_train: 0.9308, loss_valid: 0.2741, accuracy_valid: 0.9065\n",
      "epoch: 14, loss_train: 0.2065, accuracy_train: 0.9328, loss_valid: 0.2766, accuracy_valid: 0.9100\n",
      "epoch: 15, loss_train: 0.2058, accuracy_train: 0.9337, loss_valid: 0.2762, accuracy_valid: 0.9065\n",
      "epoch: 16, loss_train: 0.2011, accuracy_train: 0.9319, loss_valid: 0.2749, accuracy_valid: 0.9077\n",
      "epoch: 17, loss_train: 0.2007, accuracy_train: 0.9337, loss_valid: 0.2780, accuracy_valid: 0.9042\n",
      "epoch: 18, loss_train: 0.2010, accuracy_train: 0.9331, loss_valid: 0.2823, accuracy_valid: 0.9019\n",
      "epoch: 19, loss_train: 0.1973, accuracy_train: 0.9335, loss_valid: 0.2798, accuracy_valid: 0.9054\n",
      "epoch: 20, loss_train: 0.1957, accuracy_train: 0.9347, loss_valid: 0.2803, accuracy_valid: 0.9089\n",
      "epoch: 21, loss_train: 0.1961, accuracy_train: 0.9331, loss_valid: 0.2856, accuracy_valid: 0.9054\n",
      "epoch: 22, loss_train: 0.1928, accuracy_train: 0.9347, loss_valid: 0.2827, accuracy_valid: 0.9054\n",
      "epoch: 23, loss_train: 0.1945, accuracy_train: 0.9363, loss_valid: 0.2845, accuracy_valid: 0.9065\n",
      "epoch: 24, loss_train: 0.1914, accuracy_train: 0.9357, loss_valid: 0.2849, accuracy_valid: 0.9065\n",
      "epoch: 25, loss_train: 0.1897, accuracy_train: 0.9360, loss_valid: 0.2837, accuracy_valid: 0.9077\n",
      "epoch: 26, loss_train: 0.1900, accuracy_train: 0.9347, loss_valid: 0.2854, accuracy_valid: 0.9089\n",
      "epoch: 27, loss_train: 0.1894, accuracy_train: 0.9378, loss_valid: 0.2873, accuracy_valid: 0.9007\n",
      "epoch: 28, loss_train: 0.1882, accuracy_train: 0.9354, loss_valid: 0.2879, accuracy_valid: 0.9042\n",
      "epoch: 29, loss_train: 0.1870, accuracy_train: 0.9362, loss_valid: 0.2875, accuracy_valid: 0.9019\n",
      "epoch: 30, loss_train: 0.1864, accuracy_train: 0.9371, loss_valid: 0.2885, accuracy_valid: 0.9007\n"
     ]
    }
   ],
   "source": [
    "# モデルの定義\n",
    "model = SLPNet(300, 4)\n",
    "\n",
    "# 損失関数の定義\n",
    "criterion = nn.CrossEntropyLoss()\n",
    "\n",
    "# 最適化関数の定義\n",
    "optimizer = torch.optim.SGD(model.parameters(), lr=1e-1)\n",
    "\n",
    "# 学習\n",
    "num_epochs = 30\n",
    "log_train = []\n",
    "log_valid = []\n",
    "for epoch in range(num_epochs):\n",
    "    #訓練モードに設定\n",
    "    model.train()\n",
    "    for inputs, labels in dataloader_train:\n",
    "        # 勾配を0に初期化\n",
    "        optimizer.zero_grad()\n",
    "        \n",
    "        # 順伝播 + 誤差逆伝播 + 重み更新\n",
    "        outputs = model.forward(inputs)\n",
    "        loss = criterion(outputs, labels)\n",
    "        loss.backward()\n",
    "        optimizer.step()\n",
    "        \n",
    "    # 損失と正解率の算出\n",
    "    loss_train, acc_train = calculate_loss_and_accuracy(model, criterion, dataloader_train)\n",
    "    loss_valid, acc_valid = calculate_loss_and_accuracy(model, criterion, dataloader_valid)\n",
    "    log_train.append([loss_train, acc_train])\n",
    "    log_valid.append([loss_valid, acc_valid])\n",
    "    \n",
    "    print(f'epoch: {epoch + 1}, loss_train: {loss_train:.4f}, accuracy_train: {acc_train:.4f}, loss_valid: {loss_valid:.4f}, accuracy_valid: {acc_valid:.4f}')\n",
    "    "
   ]
  },
  {
   "cell_type": "code",
   "execution_count": 23,
   "metadata": {},
   "outputs": [
    {
     "data": {
      "image/png": "[encoded data removed]",
      "text/plain": [
       "<Figure size 1080x360 with 2 Axes>"
      ]
     },
     "metadata": {
      "needs_background": "light"
     },
     "output_type": "display_data"
    }
   ],
   "source": [
    "from matplotlib import pyplot as plt\n",
    "import numpy as np\n",
    "\n",
    "# 視覚化\n",
    "fig, ax = plt.subplots(1, 2, figsize=(15, 5))\n",
    "ax[0].plot(np.array(log_train).T[0], label='train')\n",
    "ax[0].plot(np.array(log_valid).T[0], label='valid')\n",
    "ax[0].set_xlabel('epoch')\n",
    "ax[0].set_ylabel('loss')\n",
    "ax[0].legend()\n",
    "ax[1].plot(np.array(log_train).T[1], label='train')\n",
    "ax[1].plot(np.array(log_valid).T[1], label='valid')\n",
    "ax[1].set_xlabel('epoch')\n",
    "ax[1].set_ylabel('accuracy')\n",
    "ax[1].legend()\n",
    "plt.show()"
   ]
  },
  {
   "cell_type": "markdown",
   "metadata": {},
   "source": [
    "# No76"
   ]
  },
  {
   "cell_type": "code",
   "execution_count": 24,
   "metadata": {},
   "outputs": [
    {
     "name": "stdout",
     "output_type": "stream",
     "text": [
      "epoch: 1, loss_train: 0.3553, accuracy_train: 0.8747, loss_valid: 0.3508, accuracy_valid: 0.8715\n",
      "epoch: 2, loss_train: 0.2957, accuracy_train: 0.9008, loss_valid: 0.3002, accuracy_valid: 0.8832\n",
      "epoch: 3, loss_train: 0.2732, accuracy_train: 0.9105, loss_valid: 0.2819, accuracy_valid: 0.8949\n",
      "epoch: 4, loss_train: 0.2561, accuracy_train: 0.9166, loss_valid: 0.2700, accuracy_valid: 0.9030\n",
      "epoch: 5, loss_train: 0.2475, accuracy_train: 0.9150, loss_valid: 0.2678, accuracy_valid: 0.9054\n",
      "epoch: 6, loss_train: 0.2371, accuracy_train: 0.9203, loss_valid: 0.2630, accuracy_valid: 0.9054\n",
      "epoch: 7, loss_train: 0.2298, accuracy_train: 0.9219, loss_valid: 0.2610, accuracy_valid: 0.9112\n",
      "epoch: 8, loss_train: 0.2250, accuracy_train: 0.9226, loss_valid: 0.2616, accuracy_valid: 0.9112\n",
      "epoch: 9, loss_train: 0.2228, accuracy_train: 0.9264, loss_valid: 0.2616, accuracy_valid: 0.9030\n",
      "epoch: 10, loss_train: 0.2159, accuracy_train: 0.9271, loss_valid: 0.2616, accuracy_valid: 0.9112\n",
      "epoch: 11, loss_train: 0.2136, accuracy_train: 0.9295, loss_valid: 0.2639, accuracy_valid: 0.9089\n",
      "epoch: 12, loss_train: 0.2111, accuracy_train: 0.9292, loss_valid: 0.2647, accuracy_valid: 0.9077\n",
      "epoch: 13, loss_train: 0.2073, accuracy_train: 0.9315, loss_valid: 0.2652, accuracy_valid: 0.9042\n",
      "epoch: 14, loss_train: 0.2058, accuracy_train: 0.9333, loss_valid: 0.2662, accuracy_valid: 0.9054\n",
      "epoch: 15, loss_train: 0.2059, accuracy_train: 0.9311, loss_valid: 0.2695, accuracy_valid: 0.9100\n",
      "epoch: 16, loss_train: 0.2013, accuracy_train: 0.9331, loss_valid: 0.2669, accuracy_valid: 0.9065\n",
      "epoch: 17, loss_train: 0.2032, accuracy_train: 0.9296, loss_valid: 0.2716, accuracy_valid: 0.9089\n",
      "epoch: 18, loss_train: 0.2048, accuracy_train: 0.9283, loss_valid: 0.2759, accuracy_valid: 0.9065\n",
      "epoch: 19, loss_train: 0.1972, accuracy_train: 0.9335, loss_valid: 0.2699, accuracy_valid: 0.9065\n",
      "epoch: 20, loss_train: 0.1964, accuracy_train: 0.9337, loss_valid: 0.2728, accuracy_valid: 0.9030\n",
      "epoch: 21, loss_train: 0.1941, accuracy_train: 0.9357, loss_valid: 0.2725, accuracy_valid: 0.9065\n",
      "epoch: 22, loss_train: 0.1952, accuracy_train: 0.9334, loss_valid: 0.2780, accuracy_valid: 0.9054\n",
      "epoch: 23, loss_train: 0.1919, accuracy_train: 0.9341, loss_valid: 0.2731, accuracy_valid: 0.9030\n",
      "epoch: 24, loss_train: 0.1914, accuracy_train: 0.9362, loss_valid: 0.2777, accuracy_valid: 0.9030\n",
      "epoch: 25, loss_train: 0.1904, accuracy_train: 0.9344, loss_valid: 0.2799, accuracy_valid: 0.9054\n",
      "epoch: 26, loss_train: 0.1909, accuracy_train: 0.9365, loss_valid: 0.2815, accuracy_valid: 0.9007\n",
      "epoch: 27, loss_train: 0.1887, accuracy_train: 0.9363, loss_valid: 0.2794, accuracy_valid: 0.9030\n",
      "epoch: 28, loss_train: 0.1872, accuracy_train: 0.9363, loss_valid: 0.2814, accuracy_valid: 0.9042\n",
      "epoch: 29, loss_train: 0.1869, accuracy_train: 0.9363, loss_valid: 0.2827, accuracy_valid: 0.9042\n",
      "epoch: 30, loss_train: 0.1860, accuracy_train: 0.9378, loss_valid: 0.2832, accuracy_valid: 0.9030\n"
     ]
    }
   ],
   "source": [
    "# モデルの定義\n",
    "model = SLPNet(300, 4)\n",
    "\n",
    "# 損失関数の定義\n",
    "criterion = nn.CrossEntropyLoss()\n",
    "\n",
    "# 最適化関数の定義\n",
    "optimizer = torch.optim.SGD(model.parameters(), lr=1e-1)\n",
    "\n",
    "# 学習\n",
    "num_epochs = 30\n",
    "log_train = []\n",
    "log_valid = []\n",
    "for epoch in range(num_epochs):\n",
    "    #訓練モードに設定\n",
    "    model.train()\n",
    "    for inputs, labels in dataloader_train:\n",
    "        # 勾配を0に初期化\n",
    "        optimizer.zero_grad()\n",
    "        \n",
    "        # 順伝播 + 誤差逆伝播 + 重み更新\n",
    "        outputs = model.forward(inputs)\n",
    "        loss = criterion(outputs, labels)\n",
    "        loss.backward()\n",
    "        optimizer.step()\n",
    "        \n",
    "    # 損失と正解率の算出\n",
    "    loss_train, acc_train = calculate_loss_and_accuracy(model, criterion, dataloader_train)\n",
    "    loss_valid, acc_valid = calculate_loss_and_accuracy(model, criterion, dataloader_valid)\n",
    "    log_train.append([loss_train, acc_train])\n",
    "    log_valid.append([loss_valid, acc_valid])\n",
    "    \n",
    "    # チェックポイントの保存\n",
    "    torch.save({'epoch': epoch, 'model_state_dict': model.state_dict(), 'optimizer_state': optimizer.state_dict()}, f'checkpoint{epoch + 1}.pt')\n",
    "    \n",
    "    print(f'epoch: {epoch + 1}, loss_train: {loss_train:.4f}, accuracy_train: {acc_train:.4f}, loss_valid: {loss_valid:.4f}, accuracy_valid: {acc_valid:.4f}')\n",
    "    "
   ]
  },
  {
   "cell_type": "markdown",
   "metadata": {},
   "source": [
    "# No77"
   ]
  },
  {
   "cell_type": "code",
   "execution_count": 25,
   "metadata": {},
   "outputs": [],
   "source": [
    "import time\n",
    "\n",
    "def train_model(dataset_train, dataset_valid, batch_size, model, criterion, optimizer, num_epochs):\n",
    "    # dataloaderの作成\n",
    "    dataloader_train = DataLoader(dataset_train, batch_size=batch_size, shuffle=True)\n",
    "    dataloader_valid = DataLoader(dataset_valid, batch_size=len(dataset_valid), shuffle=False)\n",
    "    \n",
    "    # 学習\n",
    "    log_train = []\n",
    "    log_valid = []\n",
    "    for epoch in range(num_epochs):\n",
    "        # 開始時刻の記録\n",
    "        s_time = time.time()\n",
    "        #訓練モードに設定\n",
    "        model.train()\n",
    "        for inputs, labels in dataloader_train:\n",
    "            # 勾配を0に初期化\n",
    "            optimizer.zero_grad()\n",
    "\n",
    "            # 順伝播 + 誤差逆伝播 + 重み更新\n",
    "            outputs = model.forward(inputs)\n",
    "            loss = criterion(outputs, labels)\n",
    "            loss.backward()\n",
    "            optimizer.step()\n",
    "\n",
    "        # 損失と正解率の算出\n",
    "        loss_train, acc_train = calculate_loss_and_accuracy(model, criterion, dataloader_train)\n",
    "        loss_valid, acc_valid = calculate_loss_and_accuracy(model, criterion, dataloader_valid)\n",
    "        log_train.append([loss_train, acc_train])\n",
    "        log_valid.append([loss_valid, acc_valid])\n",
    "        # チェックポイントの保存\n",
    "        torch.save({'epoch': epoch, 'model_state_dict': model.state_dict(), 'optimizer_state': optimizer.state_dict()}, f'checkpoint{epoch + 1}.pt')\n",
    "        \n",
    "        # 終了時刻の記録\n",
    "        e_time = time.time()\n",
    "        \n",
    "        # ログ出力\n",
    "        print(f'epoch: {epoch + 1}, loss_train: {loss_train:.4f}, accuracy_train: {acc_train:.4f}, loss_valid: {loss_valid:.4f}, accuracy_valid: {acc_valid:.4f}')\n",
    "    return {'train': log_train, 'valid': log_valid}"
   ]
  },
  {
   "cell_type": "code",
   "execution_count": 27,
   "metadata": {},
   "outputs": [
    {
     "name": "stdout",
     "output_type": "stream",
     "text": [
      "バッチサイズ: 1\n",
      "epoch: 1, loss_train: 0.3504, accuracy_train: 0.8786, loss_valid: 0.3555, accuracy_valid: 0.8785\n",
      "バッチサイズ: 2\n",
      "epoch: 1, loss_train: 0.3130, accuracy_train: 0.8963, loss_valid: 0.3231, accuracy_valid: 0.8890\n",
      "バッチサイズ: 4\n",
      "epoch: 1, loss_train: 0.3028, accuracy_train: 0.8992, loss_valid: 0.3149, accuracy_valid: 0.8925\n",
      "バッチサイズ: 8\n",
      "epoch: 1, loss_train: 0.2970, accuracy_train: 0.9027, loss_valid: 0.3108, accuracy_valid: 0.8949\n",
      "バッチサイズ: 16\n",
      "epoch: 1, loss_train: 0.2948, accuracy_train: 0.9030, loss_valid: 0.3092, accuracy_valid: 0.8949\n",
      "バッチサイズ: 32\n",
      "epoch: 1, loss_train: 0.2939, accuracy_train: 0.9035, loss_valid: 0.3084, accuracy_valid: 0.8949\n",
      "バッチサイズ: 64\n",
      "epoch: 1, loss_train: 0.2933, accuracy_train: 0.9036, loss_valid: 0.3081, accuracy_valid: 0.8960\n",
      "バッチサイズ: 128\n",
      "epoch: 1, loss_train: 0.2921, accuracy_train: 0.9036, loss_valid: 0.3079, accuracy_valid: 0.8972\n",
      "バッチサイズ: 256\n",
      "epoch: 1, loss_train: 0.2929, accuracy_train: 0.9036, loss_valid: 0.3078, accuracy_valid: 0.8972\n",
      "バッチサイズ: 512\n",
      "epoch: 1, loss_train: 0.2944, accuracy_train: 0.9036, loss_valid: 0.3077, accuracy_valid: 0.8972\n",
      "バッチサイズ: 1024\n",
      "epoch: 1, loss_train: 0.2947, accuracy_train: 0.9036, loss_valid: 0.3077, accuracy_valid: 0.8972\n"
     ]
    }
   ],
   "source": [
    "# datasetの作成\n",
    "dataset_train = CreateDataset(X_train, y_train)\n",
    "dataset_valid = CreateDataset(X_valid, y_valid)\n",
    "\n",
    "# モデルの定義\n",
    "model = SLPNet(300, 4)\n",
    "\n",
    "# 損失関数の定義\n",
    "criterion = nn.CrossEntropyLoss()\n",
    "\n",
    "# オプティマイザの定義\n",
    "optimizer = torch.optim.SGD(model.parameters(), lr=1e-1)\n",
    "\n",
    "# モデルの定義\n",
    "for batch_size in [2 ** i for i in range(11)]:\n",
    "    print(f'バッチサイズ: {batch_size}')\n",
    "    log = train_model(dataset_train, dataset_valid, batch_size, model, criterion, optimizer, 1)"
   ]
  },
  {
   "cell_type": "markdown",
   "metadata": {},
   "source": [
    "# No79"
   ]
  },
  {
   "cell_type": "code",
   "execution_count": 40,
   "metadata": {},
   "outputs": [],
   "source": [
    "from torch.nn import functional as F\n",
    "\n",
    "class MLPNet(nn.Module):\n",
    "  def __init__(self, input_size, mid_size, output_size, mid_layers):\n",
    "    super().__init__()\n",
    "    self.mid_layers = mid_layers\n",
    "    self.fc = nn.Linear(input_size, mid_size)\n",
    "    self.fc_mid = nn.Linear(mid_size, mid_size)\n",
    "    self.fc_out = nn.Linear(mid_size, output_size) \n",
    "    self.bn = nn.BatchNorm1d(mid_size)\n",
    "\n",
    "  def forward(self, x):\n",
    "    x = F.relu(self.fc(x))\n",
    "    for _ in range(self.mid_layers):\n",
    "      x = F.relu(self.bn(self.fc_mid(x)))\n",
    "    x = F.relu(self.fc_out(x))\n",
    "\n",
    "    return x"
   ]
  },
  {
   "cell_type": "code",
   "execution_count": 41,
   "metadata": {},
   "outputs": [],
   "source": [
    "from torch import optim\n",
    "\n",
    "def calculate_loss_and_accuracy(model, criterion, loader):\n",
    "  model.eval()\n",
    "  loss = 0.0\n",
    "  total = 0\n",
    "  correct = 0\n",
    "  with torch.no_grad():\n",
    "    for inputs, labels in loader:\n",
    "#       inputs = inputs.to(device)\n",
    "#       labels = labels.to(device)\n",
    "      outputs = model(inputs)\n",
    "      loss += criterion(outputs, labels).item()\n",
    "      pred = torch.argmax(outputs, dim=-1)\n",
    "      total += len(inputs)\n",
    "      correct += (pred == labels).sum().item()\n",
    "\n",
    "  return loss / len(loader), correct / total\n",
    "\n",
    "\n",
    "def train_model(dataset_train, dataset_valid, batch_size, model, criterion, optimizer, num_epochs, device=None):\n",
    "  # GPUに送る\n",
    "#   model.to(device)\n",
    "\n",
    "  # dataloaderの作成\n",
    "  dataloader_train = DataLoader(dataset_train, batch_size=batch_size, shuffle=True)\n",
    "  dataloader_valid = DataLoader(dataset_valid, batch_size=len(dataset_valid), shuffle=False)\n",
    "\n",
    "  # スケジューラの設定\n",
    "  scheduler = optim.lr_scheduler.CosineAnnealingLR(optimizer, num_epochs, eta_min=1e-5, last_epoch=-1)\n",
    "\n",
    "  # 学習\n",
    "  log_train = []\n",
    "  log_valid = []\n",
    "  for epoch in range(num_epochs):\n",
    "    # 開始時刻の記録\n",
    "    s_time = time.time()\n",
    "\n",
    "    # 訓練モードに設定\n",
    "    model.train()\n",
    "    for inputs, labels in dataloader_train:\n",
    "      # 勾配をゼロで初期化\n",
    "      optimizer.zero_grad()\n",
    "\n",
    "      # 順伝播 + 誤差逆伝播 + 重み更新\n",
    "#       inputs = inputs.to(device)\n",
    "#       labels = labels.to(device)\n",
    "      outputs = model.forward(inputs)\n",
    "      loss = criterion(outputs, labels)\n",
    "      loss.backward()\n",
    "      optimizer.step()\n",
    "\n",
    "    # 損失と正解率の算出\n",
    "    loss_train, acc_train = calculate_loss_and_accuracy(model, criterion, dataloader_train)\n",
    "    loss_valid, acc_valid = calculate_loss_and_accuracy(model, criterion, dataloader_valid)\n",
    "    log_train.append([loss_train, acc_train])\n",
    "    log_valid.append([loss_valid, acc_valid])\n",
    "\n",
    "    # チェックポイントの保存\n",
    "    torch.save({'epoch': epoch, 'model_state_dict': model.state_dict(), 'optimizer_state_dict': optimizer.state_dict()}, f'checkpoint{epoch + 1}.pt')\n",
    "\n",
    "    # 終了時刻の記録\n",
    "    e_time = time.time()\n",
    "\n",
    "    # ログを出力\n",
    "    print(f'epoch: {epoch + 1}, loss_train: {loss_train:.4f}, accuracy_train: {acc_train:.4f}, loss_valid: {loss_valid:.4f}, accuracy_valid: {acc_valid:.4f}, {(e_time - s_time):.4f}sec') \n",
    "\n",
    "    # 検証データの損失が3エポック連続で低下しなかった場合は学習終了\n",
    "    if epoch > 2 and log_valid[epoch - 3][0] <= log_valid[epoch - 2][0] <= log_valid[epoch - 1][0] <= log_valid[epoch][0]:\n",
    "      break\n",
    "\n",
    "    # スケジューラを1ステップ進める\n",
    "    scheduler.step()\n",
    "\n",
    "  return {'train': log_train, 'valid': log_valid}"
   ]
  },
  {
   "cell_type": "code",
   "execution_count": 42,
   "metadata": {},
   "outputs": [
    {
     "name": "stdout",
     "output_type": "stream",
     "text": [
      "epoch: 1, loss_train: 0.9618, accuracy_train: 0.7405, loss_valid: 0.9836, accuracy_valid: 0.7255, 0.3809sec\n",
      "epoch: 2, loss_train: 0.7935, accuracy_train: 0.7710, loss_valid: 0.8124, accuracy_valid: 0.7675, 0.3461sec\n",
      "epoch: 3, loss_train: 0.7060, accuracy_train: 0.7783, loss_valid: 0.7200, accuracy_valid: 0.7827, 0.3493sec\n",
      "epoch: 4, loss_train: 0.6493, accuracy_train: 0.7872, loss_valid: 0.6608, accuracy_valid: 0.7909, 0.3478sec\n",
      "epoch: 5, loss_train: 0.6018, accuracy_train: 0.7996, loss_valid: 0.6109, accuracy_valid: 0.8002, 0.3468sec\n",
      "epoch: 6, loss_train: 0.5693, accuracy_train: 0.8098, loss_valid: 0.5767, accuracy_valid: 0.8178, 0.3564sec\n",
      "epoch: 7, loss_train: 0.5380, accuracy_train: 0.8215, loss_valid: 0.5446, accuracy_valid: 0.8306, 0.3446sec\n",
      "epoch: 8, loss_train: 0.5093, accuracy_train: 0.8293, loss_valid: 0.5153, accuracy_valid: 0.8400, 0.3327sec\n",
      "epoch: 9, loss_train: 0.4890, accuracy_train: 0.8372, loss_valid: 0.4950, accuracy_valid: 0.8458, 0.3393sec\n",
      "epoch: 10, loss_train: 0.4687, accuracy_train: 0.8458, loss_valid: 0.4753, accuracy_valid: 0.8470, 0.3488sec\n",
      "epoch: 11, loss_train: 0.4508, accuracy_train: 0.8529, loss_valid: 0.4578, accuracy_valid: 0.8551, 0.3491sec\n",
      "epoch: 12, loss_train: 0.4313, accuracy_train: 0.8592, loss_valid: 0.4390, accuracy_valid: 0.8621, 0.3492sec\n",
      "epoch: 13, loss_train: 0.4185, accuracy_train: 0.8669, loss_valid: 0.4269, accuracy_valid: 0.8727, 0.3546sec\n",
      "epoch: 14, loss_train: 0.4075, accuracy_train: 0.8710, loss_valid: 0.4164, accuracy_valid: 0.8750, 0.3510sec\n",
      "epoch: 15, loss_train: 0.3938, accuracy_train: 0.8734, loss_valid: 0.4035, accuracy_valid: 0.8773, 0.3575sec\n",
      "epoch: 16, loss_train: 0.3814, accuracy_train: 0.8763, loss_valid: 0.3915, accuracy_valid: 0.8808, 0.3484sec\n",
      "epoch: 17, loss_train: 0.3718, accuracy_train: 0.8788, loss_valid: 0.3824, accuracy_valid: 0.8843, 0.3507sec\n",
      "epoch: 18, loss_train: 0.3617, accuracy_train: 0.8839, loss_valid: 0.3734, accuracy_valid: 0.8867, 0.3684sec\n",
      "epoch: 19, loss_train: 0.3529, accuracy_train: 0.8845, loss_valid: 0.3648, accuracy_valid: 0.8890, 0.3551sec\n",
      "epoch: 20, loss_train: 0.3459, accuracy_train: 0.8887, loss_valid: 0.3588, accuracy_valid: 0.8902, 0.3487sec\n",
      "epoch: 21, loss_train: 0.3384, accuracy_train: 0.8913, loss_valid: 0.3523, accuracy_valid: 0.8902, 0.3513sec\n",
      "epoch: 22, loss_train: 0.3325, accuracy_train: 0.8905, loss_valid: 0.3472, accuracy_valid: 0.8902, 0.3460sec\n",
      "epoch: 23, loss_train: 0.3258, accuracy_train: 0.8934, loss_valid: 0.3414, accuracy_valid: 0.8949, 0.3505sec\n",
      "epoch: 24, loss_train: 0.3171, accuracy_train: 0.8940, loss_valid: 0.3336, accuracy_valid: 0.8960, 0.3427sec\n",
      "epoch: 25, loss_train: 0.3142, accuracy_train: 0.8976, loss_valid: 0.3315, accuracy_valid: 0.8984, 0.3443sec\n",
      "epoch: 26, loss_train: 0.3085, accuracy_train: 0.8983, loss_valid: 0.3268, accuracy_valid: 0.8995, 0.3450sec\n",
      "epoch: 27, loss_train: 0.3027, accuracy_train: 0.9008, loss_valid: 0.3215, accuracy_valid: 0.9007, 0.3407sec\n",
      "epoch: 28, loss_train: 0.3001, accuracy_train: 0.8989, loss_valid: 0.3201, accuracy_valid: 0.8995, 0.3412sec\n",
      "epoch: 29, loss_train: 0.2933, accuracy_train: 0.9027, loss_valid: 0.3139, accuracy_valid: 0.8995, 0.3400sec\n",
      "epoch: 30, loss_train: 0.2894, accuracy_train: 0.9036, loss_valid: 0.3107, accuracy_valid: 0.9042, 0.3359sec\n",
      "epoch: 31, loss_train: 0.2865, accuracy_train: 0.9046, loss_valid: 0.3091, accuracy_valid: 0.9030, 0.3396sec\n",
      "epoch: 32, loss_train: 0.2824, accuracy_train: 0.9048, loss_valid: 0.3062, accuracy_valid: 0.9042, 0.3379sec\n",
      "epoch: 33, loss_train: 0.2787, accuracy_train: 0.9092, loss_valid: 0.3027, accuracy_valid: 0.9042, 0.3819sec\n",
      "epoch: 34, loss_train: 0.2752, accuracy_train: 0.9077, loss_valid: 0.3005, accuracy_valid: 0.9042, 0.2530sec\n",
      "epoch: 35, loss_train: 0.2713, accuracy_train: 0.9100, loss_valid: 0.2978, accuracy_valid: 0.9042, 0.2645sec\n",
      "epoch: 36, loss_train: 0.2695, accuracy_train: 0.9105, loss_valid: 0.2968, accuracy_valid: 0.9054, 0.3926sec\n",
      "epoch: 37, loss_train: 0.2652, accuracy_train: 0.9118, loss_valid: 0.2936, accuracy_valid: 0.9042, 0.4033sec\n",
      "epoch: 38, loss_train: 0.2610, accuracy_train: 0.9116, loss_valid: 0.2908, accuracy_valid: 0.9042, 0.5224sec\n",
      "epoch: 39, loss_train: 0.2597, accuracy_train: 0.9132, loss_valid: 0.2900, accuracy_valid: 0.9030, 0.6670sec\n",
      "epoch: 40, loss_train: 0.2573, accuracy_train: 0.9134, loss_valid: 0.2887, accuracy_valid: 0.9054, 0.3609sec\n",
      "epoch: 41, loss_train: 0.2539, accuracy_train: 0.9144, loss_valid: 0.2873, accuracy_valid: 0.9065, 0.4051sec\n",
      "epoch: 42, loss_train: 0.2513, accuracy_train: 0.9154, loss_valid: 0.2850, accuracy_valid: 0.9054, 0.4149sec\n",
      "epoch: 43, loss_train: 0.2497, accuracy_train: 0.9178, loss_valid: 0.2841, accuracy_valid: 0.9065, 0.4954sec\n",
      "epoch: 44, loss_train: 0.2459, accuracy_train: 0.9176, loss_valid: 0.2817, accuracy_valid: 0.9077, 0.4837sec\n",
      "epoch: 45, loss_train: 0.2429, accuracy_train: 0.9182, loss_valid: 0.2803, accuracy_valid: 0.9065, 0.4641sec\n",
      "epoch: 46, loss_train: 0.2412, accuracy_train: 0.9204, loss_valid: 0.2793, accuracy_valid: 0.9054, 0.4687sec\n",
      "epoch: 47, loss_train: 0.2389, accuracy_train: 0.9201, loss_valid: 0.2781, accuracy_valid: 0.9077, 0.5938sec\n",
      "epoch: 48, loss_train: 0.2370, accuracy_train: 0.9213, loss_valid: 0.2765, accuracy_valid: 0.9065, 0.3913sec\n",
      "epoch: 49, loss_train: 0.2345, accuracy_train: 0.9213, loss_valid: 0.2762, accuracy_valid: 0.9042, 0.4386sec\n",
      "epoch: 50, loss_train: 0.2345, accuracy_train: 0.9219, loss_valid: 0.2765, accuracy_valid: 0.9089, 0.4019sec\n",
      "epoch: 51, loss_train: 0.2309, accuracy_train: 0.9232, loss_valid: 0.2740, accuracy_valid: 0.9100, 0.4287sec\n",
      "epoch: 52, loss_train: 0.2289, accuracy_train: 0.9239, loss_valid: 0.2733, accuracy_valid: 0.9077, 0.3500sec\n",
      "epoch: 53, loss_train: 0.2259, accuracy_train: 0.9248, loss_valid: 0.2717, accuracy_valid: 0.9077, 0.4136sec\n",
      "epoch: 54, loss_train: 0.2235, accuracy_train: 0.9260, loss_valid: 0.2702, accuracy_valid: 0.9089, 0.3594sec\n",
      "epoch: 55, loss_train: 0.2230, accuracy_train: 0.9251, loss_valid: 0.2709, accuracy_valid: 0.9089, 0.4477sec\n",
      "epoch: 56, loss_train: 0.2204, accuracy_train: 0.9261, loss_valid: 0.2683, accuracy_valid: 0.9089, 0.3661sec\n",
      "epoch: 57, loss_train: 0.2188, accuracy_train: 0.9264, loss_valid: 0.2688, accuracy_valid: 0.9077, 0.4146sec\n",
      "epoch: 58, loss_train: 0.2162, accuracy_train: 0.9279, loss_valid: 0.2674, accuracy_valid: 0.9077, 0.3629sec\n",
      "epoch: 59, loss_train: 0.2161, accuracy_train: 0.9274, loss_valid: 0.2689, accuracy_valid: 0.9100, 0.4371sec\n",
      "epoch: 60, loss_train: 0.2151, accuracy_train: 0.9295, loss_valid: 0.2674, accuracy_valid: 0.9112, 0.3719sec\n",
      "epoch: 61, loss_train: 0.2121, accuracy_train: 0.9300, loss_valid: 0.2666, accuracy_valid: 0.9100, 0.4398sec\n",
      "epoch: 62, loss_train: 0.2100, accuracy_train: 0.9299, loss_valid: 0.2647, accuracy_valid: 0.9100, 0.3753sec\n",
      "epoch: 63, loss_train: 0.2094, accuracy_train: 0.9298, loss_valid: 0.2652, accuracy_valid: 0.9100, 0.3806sec\n",
      "epoch: 64, loss_train: 0.2070, accuracy_train: 0.9311, loss_valid: 0.2650, accuracy_valid: 0.9124, 0.2794sec\n",
      "epoch: 65, loss_train: 0.2061, accuracy_train: 0.9324, loss_valid: 0.2654, accuracy_valid: 0.9100, 0.3614sec\n",
      "epoch: 66, loss_train: 0.2034, accuracy_train: 0.9322, loss_valid: 0.2636, accuracy_valid: 0.9112, 0.3452sec\n",
      "epoch: 67, loss_train: 0.2015, accuracy_train: 0.9331, loss_valid: 0.2625, accuracy_valid: 0.9100, 0.3924sec\n",
      "epoch: 68, loss_train: 0.1996, accuracy_train: 0.9341, loss_valid: 0.2612, accuracy_valid: 0.9089, 0.3484sec\n",
      "epoch: 69, loss_train: 0.1984, accuracy_train: 0.9349, loss_valid: 0.2601, accuracy_valid: 0.9077, 0.4179sec\n",
      "epoch: 70, loss_train: 0.1972, accuracy_train: 0.9349, loss_valid: 0.2615, accuracy_valid: 0.9112, 0.3463sec\n",
      "epoch: 71, loss_train: 0.1961, accuracy_train: 0.9335, loss_valid: 0.2632, accuracy_valid: 0.9089, 0.4267sec\n",
      "epoch: 72, loss_train: 0.1935, accuracy_train: 0.9352, loss_valid: 0.2604, accuracy_valid: 0.9100, 0.3428sec\n",
      "epoch: 73, loss_train: 0.1934, accuracy_train: 0.9360, loss_valid: 0.2613, accuracy_valid: 0.9112, 0.4273sec\n",
      "epoch: 74, loss_train: 0.1915, accuracy_train: 0.9372, loss_valid: 0.2608, accuracy_valid: 0.9124, 0.3460sec\n",
      "epoch: 75, loss_train: 0.1907, accuracy_train: 0.9371, loss_valid: 0.2607, accuracy_valid: 0.9112, 0.3840sec\n",
      "epoch: 76, loss_train: 0.1878, accuracy_train: 0.9378, loss_valid: 0.2590, accuracy_valid: 0.9077, 0.3145sec\n",
      "epoch: 77, loss_train: 0.1865, accuracy_train: 0.9388, loss_valid: 0.2581, accuracy_valid: 0.9100, 0.4045sec\n",
      "epoch: 78, loss_train: 0.1856, accuracy_train: 0.9397, loss_valid: 0.2579, accuracy_valid: 0.9089, 0.3399sec\n",
      "epoch: 79, loss_train: 0.1833, accuracy_train: 0.9404, loss_valid: 0.2579, accuracy_valid: 0.9100, 0.4023sec\n",
      "epoch: 80, loss_train: 0.1832, accuracy_train: 0.9394, loss_valid: 0.2585, accuracy_valid: 0.9100, 0.3511sec\n",
      "epoch: 81, loss_train: 0.1810, accuracy_train: 0.9423, loss_valid: 0.2576, accuracy_valid: 0.9124, 0.4184sec\n",
      "epoch: 82, loss_train: 0.1800, accuracy_train: 0.9414, loss_valid: 0.2573, accuracy_valid: 0.9136, 0.3703sec\n",
      "epoch: 83, loss_train: 0.1786, accuracy_train: 0.9410, loss_valid: 0.2569, accuracy_valid: 0.9100, 0.4268sec\n",
      "epoch: 84, loss_train: 0.1770, accuracy_train: 0.9420, loss_valid: 0.2565, accuracy_valid: 0.9124, 0.3528sec\n",
      "epoch: 85, loss_train: 0.1760, accuracy_train: 0.9425, loss_valid: 0.2572, accuracy_valid: 0.9112, 0.4269sec\n",
      "epoch: 86, loss_train: 0.1758, accuracy_train: 0.9413, loss_valid: 0.2600, accuracy_valid: 0.9112, 0.3387sec\n",
      "epoch: 87, loss_train: 0.1729, accuracy_train: 0.9442, loss_valid: 0.2572, accuracy_valid: 0.9124, 0.5445sec\n",
      "epoch: 88, loss_train: 0.1720, accuracy_train: 0.9448, loss_valid: 0.2568, accuracy_valid: 0.9112, 0.3568sec\n",
      "epoch: 89, loss_train: 0.1708, accuracy_train: 0.9449, loss_valid: 0.2580, accuracy_valid: 0.9124, 0.3445sec\n",
      "epoch: 90, loss_train: 0.1693, accuracy_train: 0.9458, loss_valid: 0.2573, accuracy_valid: 0.9124, 0.4233sec\n",
      "epoch: 91, loss_train: 0.1690, accuracy_train: 0.9458, loss_valid: 0.2580, accuracy_valid: 0.9100, 0.3368sec\n",
      "epoch: 92, loss_train: 0.1673, accuracy_train: 0.9454, loss_valid: 0.2583, accuracy_valid: 0.9100, 0.4358sec\n",
      "epoch: 93, loss_train: 0.1652, accuracy_train: 0.9463, loss_valid: 0.2574, accuracy_valid: 0.9112, 0.3474sec\n",
      "epoch: 94, loss_train: 0.1643, accuracy_train: 0.9476, loss_valid: 0.2568, accuracy_valid: 0.9124, 0.3851sec\n",
      "epoch: 95, loss_train: 0.1633, accuracy_train: 0.9482, loss_valid: 0.2571, accuracy_valid: 0.9112, 0.3326sec\n",
      "epoch: 96, loss_train: 0.1617, accuracy_train: 0.9487, loss_valid: 0.2565, accuracy_valid: 0.9147, 0.4510sec\n",
      "epoch: 97, loss_train: 0.1609, accuracy_train: 0.9480, loss_valid: 0.2558, accuracy_valid: 0.9112, 0.3672sec\n",
      "epoch: 98, loss_train: 0.1600, accuracy_train: 0.9493, loss_valid: 0.2567, accuracy_valid: 0.9147, 0.4201sec\n",
      "epoch: 99, loss_train: 0.1594, accuracy_train: 0.9496, loss_valid: 0.2564, accuracy_valid: 0.9147, 0.3493sec\n",
      "epoch: 100, loss_train: 0.1575, accuracy_train: 0.9493, loss_valid: 0.2574, accuracy_valid: 0.9124, 0.4333sec\n",
      "epoch: 101, loss_train: 0.1572, accuracy_train: 0.9502, loss_valid: 0.2574, accuracy_valid: 0.9124, 0.3572sec\n",
      "epoch: 102, loss_train: 0.1562, accuracy_train: 0.9511, loss_valid: 0.2573, accuracy_valid: 0.9159, 0.4288sec\n",
      "epoch: 103, loss_train: 0.1539, accuracy_train: 0.9501, loss_valid: 0.2571, accuracy_valid: 0.9136, 0.3250sec\n",
      "epoch: 104, loss_train: 0.1536, accuracy_train: 0.9517, loss_valid: 0.2556, accuracy_valid: 0.9147, 0.4090sec\n",
      "epoch: 105, loss_train: 0.1522, accuracy_train: 0.9512, loss_valid: 0.2578, accuracy_valid: 0.9136, 0.3620sec\n",
      "epoch: 106, loss_train: 0.1521, accuracy_train: 0.9519, loss_valid: 0.2572, accuracy_valid: 0.9124, 0.4236sec\n",
      "epoch: 107, loss_train: 0.1500, accuracy_train: 0.9533, loss_valid: 0.2561, accuracy_valid: 0.9136, 0.3464sec\n",
      "epoch: 108, loss_train: 0.1486, accuracy_train: 0.9530, loss_valid: 0.2573, accuracy_valid: 0.9124, 0.3905sec\n",
      "epoch: 109, loss_train: 0.1477, accuracy_train: 0.9536, loss_valid: 0.2565, accuracy_valid: 0.9136, 0.3150sec\n",
      "epoch: 110, loss_train: 0.1466, accuracy_train: 0.9533, loss_valid: 0.2578, accuracy_valid: 0.9136, 0.3164sec\n",
      "epoch: 111, loss_train: 0.1452, accuracy_train: 0.9547, loss_valid: 0.2562, accuracy_valid: 0.9124, 0.2878sec\n",
      "epoch: 112, loss_train: 0.1442, accuracy_train: 0.9555, loss_valid: 0.2563, accuracy_valid: 0.9147, 0.3012sec\n",
      "epoch: 113, loss_train: 0.1430, accuracy_train: 0.9555, loss_valid: 0.2560, accuracy_valid: 0.9136, 0.3009sec\n",
      "epoch: 114, loss_train: 0.1430, accuracy_train: 0.9555, loss_valid: 0.2567, accuracy_valid: 0.9136, 0.3530sec\n",
      "epoch: 115, loss_train: 0.1407, accuracy_train: 0.9566, loss_valid: 0.2565, accuracy_valid: 0.9124, 0.3023sec\n",
      "epoch: 116, loss_train: 0.1401, accuracy_train: 0.9562, loss_valid: 0.2574, accuracy_valid: 0.9147, 0.4040sec\n",
      "epoch: 117, loss_train: 0.1386, accuracy_train: 0.9578, loss_valid: 0.2566, accuracy_valid: 0.9136, 0.3636sec\n",
      "epoch: 118, loss_train: 0.1385, accuracy_train: 0.9572, loss_valid: 0.2600, accuracy_valid: 0.9159, 0.4204sec\n",
      "epoch: 119, loss_train: 0.1380, accuracy_train: 0.9579, loss_valid: 0.2575, accuracy_valid: 0.9159, 0.3583sec\n",
      "epoch: 120, loss_train: 0.1358, accuracy_train: 0.9585, loss_valid: 0.2583, accuracy_valid: 0.9159, 0.4241sec\n",
      "epoch: 121, loss_train: 0.1350, accuracy_train: 0.9588, loss_valid: 0.2580, accuracy_valid: 0.9147, 0.3548sec\n",
      "epoch: 122, loss_train: 0.1341, accuracy_train: 0.9591, loss_valid: 0.2587, accuracy_valid: 0.9147, 0.4180sec\n",
      "epoch: 123, loss_train: 0.1339, accuracy_train: 0.9591, loss_valid: 0.2614, accuracy_valid: 0.9171, 0.3764sec\n",
      "epoch: 124, loss_train: 0.1333, accuracy_train: 0.9610, loss_valid: 0.2578, accuracy_valid: 0.9147, 0.4331sec\n",
      "epoch: 125, loss_train: 0.1313, accuracy_train: 0.9609, loss_valid: 0.2575, accuracy_valid: 0.9147, 0.3603sec\n",
      "epoch: 126, loss_train: 0.1303, accuracy_train: 0.9603, loss_valid: 0.2598, accuracy_valid: 0.9171, 0.4335sec\n",
      "epoch: 127, loss_train: 0.1300, accuracy_train: 0.9612, loss_valid: 0.2601, accuracy_valid: 0.9171, 0.3631sec\n",
      "epoch: 128, loss_train: 0.1297, accuracy_train: 0.9604, loss_valid: 0.2619, accuracy_valid: 0.9159, 0.3949sec\n"
     ]
    }
   ],
   "source": [
    "# datasetの作成\n",
    "dataset_train = CreateDataset(X_train, y_train)\n",
    "dataset_valid = CreateDataset(X_valid, y_valid)\n",
    "\n",
    "# モデルの定義\n",
    "model = MLPNet(300, 200, 4, 1)\n",
    "\n",
    "# 損失関数の定義\n",
    "criterion = nn.CrossEntropyLoss()\n",
    "\n",
    "# オプティマイザの定義\n",
    "optimizer = torch.optim.SGD(model.parameters(), lr=1e-3)\n",
    "\n",
    "# デバイスの指定\n",
    "# device = torch.device('cuda')\n",
    "\n",
    "# モデルの学習\n",
    "log = train_model(dataset_train, dataset_valid, 64, model, criterion, optimizer, 1000)"
   ]
  },
  {
   "cell_type": "code",
   "execution_count": 43,
   "metadata": {},
   "outputs": [
    {
     "data": {
      "image/png": "[encoded data removed]",
      "text/plain": [
       "<Figure size 1080x360 with 2 Axes>"
      ]
     },
     "metadata": {
      "needs_background": "light"
     },
     "output_type": "display_data"
    }
   ],
   "source": [
    "fig, ax = plt.subplots(1, 2, figsize=(15, 5))\n",
    "ax[0].plot(np.array(log['train']).T[0], label='train')\n",
    "ax[0].plot(np.array(log['valid']).T[0], label='valid')\n",
    "ax[0].set_xlabel('epoch')\n",
    "ax[0].set_ylabel('loss')\n",
    "ax[0].legend()\n",
    "ax[1].plot(np.array(log['train']).T[1], label='train')\n",
    "ax[1].plot(np.array(log['valid']).T[1], label='valid')\n",
    "ax[1].set_xlabel('epoch')\n",
    "ax[1].set_ylabel('accuracy')\n",
    "ax[1].legend()\n",
    "plt.show()"
   ]
  },
  {
   "cell_type": "code",
   "execution_count": 47,
   "metadata": {},
   "outputs": [],
   "source": [
    "def calculate_accuracy(model, loader):\n",
    "  model.eval()\n",
    "  total = 0\n",
    "  correct = 0\n",
    "  with torch.no_grad():\n",
    "    for inputs, labels in loader:\n",
    "#       inputs = inputs.to(device)\n",
    "#       labels = labels.to(device)\n",
    "      outputs = model(inputs)\n",
    "      pred = torch.argmax(outputs, dim=-1)\n",
    "      total += len(inputs)\n",
    "      correct += (pred == labels).sum().item()\n",
    "\n",
    "  return correct / total"
   ]
  },
  {
   "cell_type": "code",
   "execution_count": 48,
   "metadata": {},
   "outputs": [
    {
     "name": "stdout",
     "output_type": "stream",
     "text": [
      "正解率（学習データ）：0.960\n",
      "正解率（評価データ）：0.898\n"
     ]
    }
   ],
   "source": [
    "# 正解率の確認\n",
    "acc_train = calculate_accuracy(model, dataloader_train)\n",
    "acc_test = calculate_accuracy(model, dataloader_test)\n",
    "print(f'正解率（学習データ）：{acc_train:.3f}')\n",
    "print(f'正解率（評価データ）：{acc_test:.3f}')"
   ]
  },
  {
   "cell_type": "code",
   "execution_count": null,
   "metadata": {},
   "outputs": [],
   "source": []
  }
 ],
 "metadata": {
  "kernelspec": {
   "display_name": "Python 3",
   "language": "python",
   "name": "python3"
  },
  "language_info": {
   "codemirror_mode": {
    "name": "ipython",
    "version": 3
   },
   "file_extension": ".py",
   "mimetype": "text/x-python",
   "name": "python",
   "nbconvert_exporter": "python",
   "pygments_lexer": "ipython3",
   "version": "3.7.4"
  }
 },
 "nbformat": 4,
 "nbformat_minor": 4
}
