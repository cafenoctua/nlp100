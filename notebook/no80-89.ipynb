{
 "cells": [
  {
   "cell_type": "markdown",
   "metadata": {},
   "source": [
    "# No80"
   ]
  },
  {
   "cell_type": "code",
   "execution_count": 58,
   "metadata": {},
   "outputs": [
    {
     "name": "stdout",
     "output_type": "stream",
     "text": [
      "【学習データ】\n",
      "b    4501\n",
      "e    4235\n",
      "t    1220\n",
      "m     728\n",
      "Name: CATEGORY, dtype: int64\n",
      "【検証データ】\n",
      "b    563\n",
      "e    529\n",
      "t    153\n",
      "m     91\n",
      "Name: CATEGORY, dtype: int64\n",
      "【評価データ】\n",
      "b    563\n",
      "e    530\n",
      "t    152\n",
      "m     91\n",
      "Name: CATEGORY, dtype: int64\n"
     ]
    }
   ],
   "source": [
    "import pandas as pd\n",
    "from sklearn.model_selection import train_test_split\n",
    "\n",
    "# データの読込\n",
    "df = pd.read_csv('./newsCorpora_re.csv', header=None, sep='\\t', names=['ID', 'TITLE', 'URL', 'PUBLISHER', 'CATEGORY', 'STORY', 'HOSTNAME', 'TIMESTAMP'])\n",
    "\n",
    "# データの抽出\n",
    "df = df.loc[df['PUBLISHER'].isin(['Reuters', 'Huffington Post', 'Businessweek', 'Contactmusic.com', 'Daily Mail']), ['TITLE', 'CATEGORY']]\n",
    "\n",
    "# データの分割\n",
    "train, valid_test = train_test_split(df, test_size=0.2, shuffle=True, random_state=123, stratify=df['CATEGORY'])\n",
    "valid, test = train_test_split(valid_test, test_size=0.5, shuffle=True, random_state=123, stratify=valid_test['CATEGORY'])\n",
    "train.reset_index(drop=True, inplace=True)\n",
    "valid.reset_index(drop=True, inplace=True)\n",
    "test.reset_index(drop=True, inplace=True)\n",
    "\n",
    "# 事例数の確認\n",
    "print('【学習データ】')\n",
    "print(train['CATEGORY'].value_counts())\n",
    "print('【検証データ】')\n",
    "print(valid['CATEGORY'].value_counts())\n",
    "print('【評価データ】')\n",
    "print(test['CATEGORY'].value_counts())"
   ]
  },
  {
   "cell_type": "code",
   "execution_count": 59,
   "metadata": {},
   "outputs": [
    {
     "name": "stdout",
     "output_type": "stream",
     "text": [
      "ID数: 9405\n",
      "\n",
      "---頻度上位20語---\n",
      "to: 1\n",
      "s: 2\n",
      "in: 3\n",
      "on: 4\n",
      "UPDATE: 5\n",
      "as: 6\n",
      "US: 7\n",
      "for: 8\n",
      "The: 9\n",
      "of: 10\n",
      "1: 11\n",
      "To: 12\n",
      "2: 13\n",
      "the: 14\n",
      "and: 15\n",
      "In: 16\n",
      "Of: 17\n",
      "a: 18\n",
      "at: 19\n",
      "A: 20\n"
     ]
    }
   ],
   "source": [
    "from collections import defaultdict\n",
    "import string\n",
    "\n",
    "# 単語の頻度集計\n",
    "d = defaultdict(int)\n",
    "table = str.maketrans(string.punctuation, ' '*len(string.punctuation))  # 記号をスペースに置換するテーブル\n",
    "for text in train['TITLE']:\n",
    "  for word in text.translate(table).split():\n",
    "    d[word] += 1\n",
    "d = sorted(d.items(), key=lambda x:x[1], reverse=True)\n",
    "\n",
    "# 単語ID辞書の作成\n",
    "word2id = {word: i + 1 for i, (word, cnt) in enumerate(d) if cnt > 1}  # 出現頻度が2回以上の単語を登録\n",
    "\n",
    "print(f'ID数: {len(set(word2id.values()))}\\n')\n",
    "print('---頻度上位20語---')\n",
    "for key in list(word2id)[:20]:\n",
    "    print(f'{key}: {word2id[key]}')"
   ]
  },
  {
   "cell_type": "code",
   "execution_count": 60,
   "metadata": {},
   "outputs": [],
   "source": [
    "def tokenizer(text, word2id=word2id, unk=0):\n",
    "  \"\"\" 入力テキストをスペースで分割しID列に変換(辞書になければunkで指定した数字を設定)\"\"\"\n",
    "  table = str.maketrans(string.punctuation, ' '*len(string.punctuation))\n",
    "  return [word2id.get(word, unk) for word in text.translate(table).split()]"
   ]
  },
  {
   "cell_type": "code",
   "execution_count": 61,
   "metadata": {},
   "outputs": [
    {
     "name": "stdout",
     "output_type": "stream",
     "text": [
      "テキスト: Amazon Plans to Fight FTC Over Mobile-App Purchases\n",
      "ID列: [169, 539, 1, 683, 1237, 82, 279, 1898, 4199]\n"
     ]
    }
   ],
   "source": [
    "text = train.iloc[1, train.columns.get_loc('TITLE')]\n",
    "print(f'テキスト: {text}')\n",
    "print(f'ID列: {tokenizer(text)}')"
   ]
  },
  {
   "cell_type": "markdown",
   "metadata": {},
   "source": [
    "# No81"
   ]
  },
  {
   "cell_type": "code",
   "execution_count": 62,
   "metadata": {},
   "outputs": [
    {
     "name": "stdout",
     "output_type": "stream",
     "text": [
      "Collecting package metadata (current_repodata.json): done\n",
      "Solving environment: done\n",
      "\n",
      "# All requested packages already installed.\n",
      "\n"
     ]
    }
   ],
   "source": [
    "!conda install -y pytorch==1.2.0 torchvision==0.4.0 cpuonly -c pytorch"
   ]
  },
  {
   "cell_type": "code",
   "execution_count": 63,
   "metadata": {},
   "outputs": [],
   "source": [
    "import torch\n",
    "from torch import nn\n",
    "\n",
    "class RNN(nn.Module):\n",
    "  def __init__(self, vocab_size, emb_size, padding_idx, output_size, hidden_size):\n",
    "    super().__init__()\n",
    "    self.hidden_size = hidden_size\n",
    "    self.emb = nn.Embedding(vocab_size, emb_size, padding_idx=padding_idx)\n",
    "    self.rnn = nn.RNN(emb_size, hidden_size, nonlinearity='tanh', batch_first=True)\n",
    "    self.fc = nn.Linear(hidden_size, output_size)\n",
    "\n",
    "  def forward(self, x):\n",
    "    self.batch_size = x.size()[0]\n",
    "    hidden = self.init_hidden()  # h0のゼロベクトルを作成\n",
    "    emb = self.emb(x)\n",
    "    # emb.size() = (batch_size, seq_len, emb_size)\n",
    "    out, hidden = self.rnn(emb, hidden)\n",
    "    # out.size() = (batch_size, seq_len, hidden_size)\n",
    "    out = self.fc(out[:, -1, :])\n",
    "    # out.size() = (batch_size, output_size)\n",
    "    return out\n",
    "\n",
    "  def init_hidden(self):\n",
    "    hidden = torch.zeros(1, self.batch_size, self.hidden_size)\n",
    "    return hidden"
   ]
  },
  {
   "cell_type": "code",
   "execution_count": 64,
   "metadata": {},
   "outputs": [],
   "source": [
    "from torch.utils.data import Dataset\n",
    "\n",
    "class CreateDataset(Dataset):\n",
    "    def __init__(self, X, y, tokenizer):\n",
    "        self.X = X\n",
    "        self.y = y\n",
    "        self.tokenizer = tokenizer\n",
    "\n",
    "    def __len__(self):  # len(Dataset)で返す値を指定\n",
    "        return len(self.y)\n",
    "\n",
    "    def __getitem__(self, index):  # Dataset[index]で返す値を指定\n",
    "        text = self.X[index]\n",
    "        inputs = self.tokenizer(text)\n",
    "\n",
    "        return {\n",
    "          'inputs': torch.tensor(inputs, dtype=torch.int64),\n",
    "          'labels': torch.tensor(self.y[index], dtype=torch.int64)\n",
    "        }"
   ]
  },
  {
   "cell_type": "code",
   "execution_count": 65,
   "metadata": {},
   "outputs": [
    {
     "name": "stdout",
     "output_type": "stream",
     "text": [
      "len(Dataset)の出力: 10684\n",
      "Dataset[index]の出力:\n",
      "  inputs: tensor([ 169,  539,    1,  683, 1237,   82,  279, 1898, 4199])\n",
      "  labels: 1\n"
     ]
    }
   ],
   "source": [
    "# ラベルベクトルの作成\n",
    "category_dict = {'b': 0, 't': 1, 'e':2, 'm':3}\n",
    "y_train = train['CATEGORY'].map(lambda x: category_dict[x]).values\n",
    "y_valid = valid['CATEGORY'].map(lambda x: category_dict[x]).values\n",
    "y_test = test['CATEGORY'].map(lambda x: category_dict[x]).values\n",
    "\n",
    "# Datasetの作成\n",
    "dataset_train = CreateDataset(train['TITLE'], y_train, tokenizer)\n",
    "dataset_valid = CreateDataset(valid['TITLE'], y_valid, tokenizer)\n",
    "dataset_test = CreateDataset(test['TITLE'], y_test, tokenizer)\n",
    "\n",
    "print(f'len(Dataset)の出力: {len(dataset_train)}')\n",
    "print('Dataset[index]の出力:')\n",
    "for var in dataset_train[1]:\n",
    "  print(f'  {var}: {dataset_train[1][var]}')"
   ]
  },
  {
   "cell_type": "code",
   "execution_count": 66,
   "metadata": {},
   "outputs": [
    {
     "name": "stdout",
     "output_type": "stream",
     "text": [
      "tensor([[0.4141, 0.1487, 0.2853, 0.1518]], grad_fn=<SoftmaxBackward>)\n",
      "tensor([[0.2474, 0.2393, 0.2250, 0.2883]], grad_fn=<SoftmaxBackward>)\n",
      "tensor([[0.2759, 0.2598, 0.1296, 0.3347]], grad_fn=<SoftmaxBackward>)\n",
      "tensor([[0.3040, 0.1650, 0.1301, 0.4008]], grad_fn=<SoftmaxBackward>)\n",
      "tensor([[0.2475, 0.2096, 0.2379, 0.3050]], grad_fn=<SoftmaxBackward>)\n",
      "tensor([[0.1598, 0.1943, 0.2816, 0.3643]], grad_fn=<SoftmaxBackward>)\n",
      "tensor([[0.1264, 0.2980, 0.2118, 0.3638]], grad_fn=<SoftmaxBackward>)\n",
      "tensor([[0.2875, 0.2908, 0.2187, 0.2030]], grad_fn=<SoftmaxBackward>)\n",
      "tensor([[0.3135, 0.1809, 0.1167, 0.3890]], grad_fn=<SoftmaxBackward>)\n",
      "tensor([[0.2156, 0.1633, 0.3564, 0.2647]], grad_fn=<SoftmaxBackward>)\n"
     ]
    }
   ],
   "source": [
    "# パラメータの設定\n",
    "VOCAB_SIZE = len(set(word2id.values())) + 1  # 辞書のID数 + パディングID\n",
    "EMB_SIZE = 300\n",
    "PADDING_IDX = len(set(word2id.values()))\n",
    "OUTPUT_SIZE = 4\n",
    "HIDDEN_SIZE = 50\n",
    "\n",
    "# モデルの定義\n",
    "model = RNN(VOCAB_SIZE, EMB_SIZE, PADDING_IDX, OUTPUT_SIZE, HIDDEN_SIZE)\n",
    "\n",
    "# 先頭10件の予測値取得\n",
    "for i in range(10):\n",
    "  X = dataset_train[i]['inputs']\n",
    "  print(torch.softmax(model(X.unsqueeze(0)), dim=-1))"
   ]
  },
  {
   "cell_type": "markdown",
   "metadata": {},
   "source": [
    "# No82"
   ]
  },
  {
   "cell_type": "code",
   "execution_count": 80,
   "metadata": {},
   "outputs": [],
   "source": [
    "from torch.utils.data import DataLoader\n",
    "import time\n",
    "from torch import optim\n",
    "\n",
    "def calculate_loss_and_accuracy(model, dataset, device=None, criterion=None):\n",
    "  \"\"\"損失・正解率を計算\"\"\"\n",
    "  dataloader = DataLoader(dataset, batch_size=1, shuffle=False)\n",
    "  loss = 0.0\n",
    "  total = 0\n",
    "  correct = 0\n",
    "  with torch.no_grad():\n",
    "    for data in dataloader:\n",
    "      # デバイスの指定\n",
    "      inputs = data['inputs'].to(device)\n",
    "      labels = data['labels'].to(device)\n",
    "\n",
    "      # 順伝播\n",
    "      outputs = model(inputs)\n",
    "\n",
    "      # 損失計算\n",
    "      if criterion != None:\n",
    "        loss += criterion(outputs, labels).item()\n",
    "\n",
    "      # 正解率計算\n",
    "      pred = torch.argmax(outputs, dim=-1)\n",
    "      total += len(inputs)\n",
    "      correct += (pred == labels).sum().item()\n",
    "\n",
    "  return loss / len(dataset), correct / total\n",
    "\n",
    "\n",
    "def train_model(dataset_train, dataset_valid, batch_size, model, criterion, optimizer, num_epochs, collate_fn=None, device=None):\n",
    "  \"\"\"モデルの学習を実行し、損失・正解率のログを返す\"\"\"\n",
    "  # デバイスの指定\n",
    "  model.to(device)\n",
    "\n",
    "  # dataloaderの作成\n",
    "  dataloader_train = DataLoader(dataset_train, batch_size=batch_size, shuffle=True, collate_fn=collate_fn)\n",
    "  dataloader_valid = DataLoader(dataset_valid, batch_size=1, shuffle=False)\n",
    "\n",
    "  # スケジューラの設定\n",
    "  scheduler = optim.lr_scheduler.CosineAnnealingLR(optimizer, num_epochs, eta_min=1e-5, last_epoch=-1)\n",
    "\n",
    "  # 学習\n",
    "  log_train = []\n",
    "  log_valid = []\n",
    "  for epoch in range(num_epochs):\n",
    "    # 開始時刻の記録\n",
    "    s_time = time.time()\n",
    "\n",
    "    # 訓練モードに設定\n",
    "    model.train()\n",
    "    for data in dataloader_train:\n",
    "      # 勾配をゼロで初期化\n",
    "      optimizer.zero_grad()\n",
    "\n",
    "      # 順伝播 + 誤差逆伝播 + 重み更新\n",
    "      inputs = data['inputs'].to(device)\n",
    "      labels = data['labels'].to(device)\n",
    "      outputs = model.forward(inputs)\n",
    "      loss = criterion(outputs, labels)\n",
    "      loss.backward()\n",
    "      optimizer.step()\n",
    "\n",
    "    # 評価モードに設定\n",
    "    model.eval()\n",
    "\n",
    "    # 損失と正解率の算出\n",
    "    loss_train, acc_train = calculate_loss_and_accuracy(model, dataset_train, device, criterion=criterion)\n",
    "    loss_valid, acc_valid = calculate_loss_and_accuracy(model, dataset_valid, device, criterion=criterion)\n",
    "    log_train.append([loss_train, acc_train])\n",
    "    log_valid.append([loss_valid, acc_valid])\n",
    "\n",
    "    # チェックポイントの保存\n",
    "    torch.save({'epoch': epoch, 'model_state_dict': model.state_dict(), 'optimizer_state_dict': optimizer.state_dict()}, f'checkpoint{epoch + 1}.pt')\n",
    "\n",
    "    # 終了時刻の記録\n",
    "    e_time = time.time()\n",
    "\n",
    "    # ログを出力\n",
    "    print(f'epoch: {epoch + 1}, loss_train: {loss_train:.4f}, accuracy_train: {acc_train:.4f}, loss_valid: {loss_valid:.4f}, accuracy_valid: {acc_valid:.4f}, {(e_time - s_time):.4f}sec') \n",
    "\n",
    "    # 検証データの損失が3エポック連続で低下しなかった場合は学習終了\n",
    "    if epoch > 2 and log_valid[epoch - 3][0] <= log_valid[epoch - 2][0] <= log_valid[epoch - 1][0] <= log_valid[epoch][0]:\n",
    "      break\n",
    "\n",
    "    # スケジューラを1ステップ進める\n",
    "    scheduler.step()\n",
    "\n",
    "  return {'train': log_train, 'valid': log_valid}"
   ]
  },
  {
   "cell_type": "code",
   "execution_count": 72,
   "metadata": {},
   "outputs": [],
   "source": [
    "import numpy as np\n",
    "from matplotlib import pyplot as plt\n",
    "\n",
    "def visualize_logs(log):\n",
    "  fig, ax = plt.subplots(1, 2, figsize=(15, 5))\n",
    "  ax[0].plot(np.array(log['train']).T[0], label='train')\n",
    "  ax[0].plot(np.array(log['valid']).T[0], label='valid')\n",
    "  ax[0].set_xlabel('epoch')\n",
    "  ax[0].set_ylabel('loss')\n",
    "  ax[0].legend()\n",
    "  ax[1].plot(np.array(log['train']).T[1], label='train')\n",
    "  ax[1].plot(np.array(log['valid']).T[1], label='valid')\n",
    "  ax[1].set_xlabel('epoch')\n",
    "  ax[1].set_ylabel('accuracy')\n",
    "  ax[1].legend()\n",
    "  plt.show()"
   ]
  },
  {
   "cell_type": "code",
   "execution_count": 81,
   "metadata": {},
   "outputs": [
    {
     "name": "stdout",
     "output_type": "stream",
     "text": [
      "epoch: 1, loss_train: 1.1004, accuracy_train: 0.5287, loss_valid: 1.1256, accuracy_valid: 0.5165, 61.8973sec\n",
      "epoch: 2, loss_train: 1.0172, accuracy_train: 0.5869, loss_valid: 1.0711, accuracy_valid: 0.5651, 63.3605sec\n",
      "epoch: 3, loss_train: 0.8712, accuracy_train: 0.6773, loss_valid: 0.9569, accuracy_valid: 0.6452, 66.4246sec\n",
      "epoch: 4, loss_train: 0.7174, accuracy_train: 0.7423, loss_valid: 0.8341, accuracy_valid: 0.7216, 59.9641sec\n",
      "epoch: 5, loss_train: 0.6169, accuracy_train: 0.7766, loss_valid: 0.7698, accuracy_valid: 0.7313, 58.8951sec\n",
      "epoch: 6, loss_train: 0.5341, accuracy_train: 0.8056, loss_valid: 0.7153, accuracy_valid: 0.7493, 59.7751sec\n",
      "epoch: 7, loss_train: 0.4963, accuracy_train: 0.8176, loss_valid: 0.7109, accuracy_valid: 0.7448, 63.4459sec\n",
      "epoch: 8, loss_train: 0.4513, accuracy_train: 0.8329, loss_valid: 0.6738, accuracy_valid: 0.7672, 62.4030sec\n",
      "epoch: 9, loss_train: 0.4356, accuracy_train: 0.8388, loss_valid: 0.6758, accuracy_valid: 0.7620, 59.8450sec\n",
      "epoch: 10, loss_train: 0.4292, accuracy_train: 0.8408, loss_valid: 0.6775, accuracy_valid: 0.7627, 61.7458sec\n"
     ]
    }
   ],
   "source": [
    "# パラメータの設定\n",
    "VOCAB_SIZE = len(set(word2id.values())) + 1 \n",
    "EMB_SIZE = 300\n",
    "PADDING_IDX = len(set(word2id.values()))\n",
    "OUTPUT_SIZE = 4\n",
    "HIDDEN_SIZE = 50\n",
    "LEARNING_RATE = 1e-3\n",
    "BATCH_SIZE = 1\n",
    "NUM_EPOCHS = 10\n",
    "\n",
    "# モデルの定義\n",
    "model = RNN(VOCAB_SIZE, EMB_SIZE, PADDING_IDX, OUTPUT_SIZE, HIDDEN_SIZE)\n",
    "\n",
    "# 損失関数の定義\n",
    "criterion = nn.CrossEntropyLoss()\n",
    "\n",
    "# オプティマイザの定義\n",
    "optimizer = torch.optim.SGD(model.parameters(), lr=LEARNING_RATE)\n",
    "\n",
    "# モデルの学習\n",
    "log = train_model(dataset_train, dataset_valid, BATCH_SIZE, model, criterion, optimizer, NUM_EPOCHS)"
   ]
  },
  {
   "cell_type": "code",
   "execution_count": 82,
   "metadata": {},
   "outputs": [
    {
     "data": {
      "image/png": "[encoded data removed]",
      "text/plain": [
       "<Figure size 1080x360 with 2 Axes>"
      ]
     },
     "metadata": {
      "needs_background": "light"
     },
     "output_type": "display_data"
    },
    {
     "name": "stdout",
     "output_type": "stream",
     "text": [
      "正解率（学習データ）：0.841\n",
      "正解率（評価データ）：0.769\n"
     ]
    }
   ],
   "source": [
    "# ログの可視化\n",
    "visualize_logs(log)\n",
    "\n",
    "# 正解率の算出\n",
    "_, acc_train = calculate_loss_and_accuracy(model, dataset_train)\n",
    "_, acc_test = calculate_loss_and_accuracy(model, dataset_test)\n",
    "print(f'正解率（学習データ）：{acc_train:.3f}')\n",
    "print(f'正解率（評価データ）：{acc_test:.3f}')"
   ]
  },
  {
   "cell_type": "markdown",
   "metadata": {
    "colab_type": "text",
    "id": "TInOdJ-yuRFC"
   },
   "source": [
    "## 83. ミニバッチ化・GPU上での学習\n",
    "***\n",
    "問題82のコードを改変し，$B$事例ごとに損失・勾配を計算して学習を行えるようにせよ（$B$の値は適当に選べ）．また，GPU上で学習を実行せよ．"
   ]
  },
  {
   "cell_type": "code",
   "execution_count": 86,
   "metadata": {
    "colab": {},
    "colab_type": "code",
    "id": "B2vkIXjn3GvM"
   },
   "outputs": [],
   "source": [
    "class Padsequence():\n",
    "  \"\"\"Dataloaderからミニバッチを取り出すごとに最大系列長でパディング\"\"\"\n",
    "  def __init__(self, padding_idx):\n",
    "    self.padding_idx = padding_idx\n",
    "\n",
    "  def __call__(self, batch):\n",
    "    sorted_batch = sorted(batch, key=lambda x: x['inputs'].shape[0], reverse=True)\n",
    "    sequences = [x['inputs'] for x in sorted_batch]\n",
    "    sequences_padded = torch.nn.utils.rnn.pad_sequence(sequences, batch_first=True, padding_value=self.padding_idx)\n",
    "    labels = torch.LongTensor([x['labels'] for x in sorted_batch])\n",
    "\n",
    "    return {'inputs': sequences_padded, 'labels': labels}"
   ]
  },
  {
   "cell_type": "code",
   "execution_count": 87,
   "metadata": {
    "colab": {
     "base_uri": "https://localhost:8080/",
     "height": 197
    },
    "colab_type": "code",
    "id": "9bFyZDDd4G3i",
    "outputId": "7c6e260e-a617-4a18-d9b9-8ab42acb337b"
   },
   "outputs": [
    {
     "ename": "TypeError",
     "evalue": "__init__() missing 1 required positional argument: 'num_layers'",
     "output_type": "error",
     "traceback": [
      "\u001b[0;31m---------------------------------------------------------------------------\u001b[0m",
      "\u001b[0;31mTypeError\u001b[0m                                 Traceback (most recent call last)",
      "\u001b[0;32m<ipython-input-87-2b1b766fa927>\u001b[0m in \u001b[0;36m<module>\u001b[0;34m\u001b[0m\n\u001b[1;32m     10\u001b[0m \u001b[0;34m\u001b[0m\u001b[0m\n\u001b[1;32m     11\u001b[0m \u001b[0;31m# モデルの定義\u001b[0m\u001b[0;34m\u001b[0m\u001b[0;34m\u001b[0m\u001b[0;34m\u001b[0m\u001b[0m\n\u001b[0;32m---> 12\u001b[0;31m \u001b[0mmodel\u001b[0m \u001b[0;34m=\u001b[0m \u001b[0mRNN\u001b[0m\u001b[0;34m(\u001b[0m\u001b[0mVOCAB_SIZE\u001b[0m\u001b[0;34m,\u001b[0m \u001b[0mEMB_SIZE\u001b[0m\u001b[0;34m,\u001b[0m \u001b[0mPADDING_IDX\u001b[0m\u001b[0;34m,\u001b[0m \u001b[0mOUTPUT_SIZE\u001b[0m\u001b[0;34m,\u001b[0m \u001b[0mHIDDEN_SIZE\u001b[0m\u001b[0;34m)\u001b[0m\u001b[0;34m\u001b[0m\u001b[0;34m\u001b[0m\u001b[0m\n\u001b[0m\u001b[1;32m     13\u001b[0m \u001b[0;34m\u001b[0m\u001b[0m\n\u001b[1;32m     14\u001b[0m \u001b[0;31m# 損失関数の定義\u001b[0m\u001b[0;34m\u001b[0m\u001b[0;34m\u001b[0m\u001b[0;34m\u001b[0m\u001b[0m\n",
      "\u001b[0;31mTypeError\u001b[0m: __init__() missing 1 required positional argument: 'num_layers'"
     ]
    }
   ],
   "source": [
    "# パラメータの設定\n",
    "VOCAB_SIZE = len(set(word2id.values())) + 1  # 辞書のID数 + パディングID\n",
    "EMB_SIZE = 300\n",
    "PADDING_IDX = len(set(word2id.values()))\n",
    "OUTPUT_SIZE = 4\n",
    "HIDDEN_SIZE = 50\n",
    "LEARNING_RATE = 5e-2\n",
    "BATCH_SIZE = 32\n",
    "NUM_EPOCHS = 10\n",
    "\n",
    "# モデルの定義\n",
    "model = RNN(VOCAB_SIZE, EMB_SIZE, PADDING_IDX, OUTPUT_SIZE, HIDDEN_SIZE)\n",
    "\n",
    "# 損失関数の定義\n",
    "criterion = nn.CrossEntropyLoss()\n",
    "\n",
    "# オプティマイザの定義\n",
    "optimizer = torch.optim.SGD(model.parameters(), lr=LEARNING_RATE)\n",
    "\n",
    "# デバイスの指定\n",
    "#device = torch.device('cuda')\n",
    "device = torch.device('cpu')\n",
    "\n",
    "# モデルの学習\n",
    "log = train_model(dataset_train, dataset_valid, BATCH_SIZE, model, criterion, optimizer, NUM_EPOCHS, collate_fn=Padsequence(PADDING_IDX), device=device)"
   ]
  },
  {
   "cell_type": "code",
   "execution_count": null,
   "metadata": {
    "colab": {
     "base_uri": "https://localhost:8080/",
     "height": 370
    },
    "colab_type": "code",
    "id": "oZCdS6ObSdCH",
    "outputId": "0a4ee145-8a39-4f9f-f751-b949ec8a2bc8"
   },
   "outputs": [],
   "source": [
    "# ログの可視化\n",
    "visualize_logs(log)\n",
    "\n",
    "# 正解率の算出\n",
    "_, acc_train = calculate_loss_and_accuracy(model, dataset_train, device)\n",
    "_, acc_test = calculate_loss_and_accuracy(model, dataset_test, device)\n",
    "print(f'正解率（学習データ）：{acc_train:.3f}')\n",
    "print(f'正解率（評価データ）：{acc_test:.3f}')"
   ]
  },
  {
   "cell_type": "markdown",
   "metadata": {
    "colab_type": "text",
    "id": "K0rt9DYxuwR_"
   },
   "source": [
    "## 84. 単語ベクトルの導入\n",
    "***\n",
    "事前学習済みの単語ベクトル（例えば，Google Newsデータセット（約1,000億単語）での学習済み単語ベクトル）で単語埋め込み$emb(x)$を初期化し，学習せよ．"
   ]
  },
  {
   "cell_type": "code",
   "execution_count": null,
   "metadata": {
    "colab": {
     "base_uri": "https://localhost:8080/",
     "height": 469
    },
    "colab_type": "code",
    "id": "EOWVVcrdqEOH",
    "outputId": "c4bf14bb-400d-44dd-a146-4db762783410"
   },
   "outputs": [],
   "source": [
    "# 学習済み単語ベクトルのダウンロード\n",
    "FILE_ID = \"0B7XkCwpI5KDYNlNUTTlSS21pQmM\"\n",
    "FILE_NAME = \"GoogleNews-vectors-negative300.bin.gz\"\n",
    "!wget --load-cookies /tmp/cookies.txt \"https://docs.google.com/uc?export=download&confirm=$(wget --quiet --save-cookies /tmp/cookies.txt --keep-session-cookies --no-check-certificate 'https://docs.google.com/uc?export=download&id=$FILE_ID' -O- | sed -rn 's/.*confirm=([0-9A-Za-z_]+).*/\\1\\n/p')&id=$FILE_ID\" -O $FILE_NAME && rm -rf /tmp/cookies.txt"
   ]
  },
  {
   "cell_type": "code",
   "execution_count": null,
   "metadata": {
    "colab": {
     "base_uri": "https://localhost:8080/",
     "height": 109
    },
    "colab_type": "code",
    "id": "djVNDrjPJ5M-",
    "outputId": "b111172e-388a-4d6a-8c69-d3473ad97b17"
   },
   "outputs": [],
   "source": [
    "from gensim.models import KeyedVectors\n",
    "\n",
    "# 学習済みモデルのロード\n",
    "model = KeyedVectors.load_word2vec_format('./GoogleNews-vectors-negative300.bin.gz', binary=True)\n",
    "\n",
    "# 学習済み単語ベクトルの取得\n",
    "VOCAB_SIZE = len(set(word2id.values())) + 1\n",
    "EMB_SIZE = 300\n",
    "weights = np.zeros((VOCAB_SIZE, EMB_SIZE))\n",
    "words_in_pretrained = 0\n",
    "for i, word in enumerate(word2id.keys()):\n",
    "  try:\n",
    "    weights[i] = model[word]\n",
    "    words_in_pretrained += 1\n",
    "  except KeyError:\n",
    "    weights[i] = np.random.normal(scale=0.4, size=(EMB_SIZE,))\n",
    "weights = torch.from_numpy(weights.astype((np.float32)))\n",
    "\n",
    "print(f'学習済みベクトル利用単語数: {words_in_pretrained} / {VOCAB_SIZE}')\n",
    "print(weights.size())"
   ]
  },
  {
   "cell_type": "code",
   "execution_count": null,
   "metadata": {
    "colab": {},
    "colab_type": "code",
    "id": "4A1UkAVQwELp"
   },
   "outputs": [],
   "source": [
    "class RNN(nn.Module):\n",
    "  def __init__(self, vocab_size, emb_size, padding_idx, output_size, hidden_size, num_layers, emb_weights=None, bidirectional=False):\n",
    "    super().__init__()\n",
    "    self.hidden_size = hidden_size\n",
    "    self.num_layers = num_layers\n",
    "    self.num_directions = bidirectional + 1  # 単方向：1、双方向：2\n",
    "    if emb_weights != None:  # 指定があれば埋め込み層の重みをemb_weightsで初期化\n",
    "      self.emb = nn.Embedding.from_pretrained(emb_weights, padding_idx=padding_idx)\n",
    "    else:\n",
    "      self.emb = nn.Embedding(vocab_size, emb_size, padding_idx=padding_idx)\n",
    "    self.rnn = nn.RNN(emb_size, hidden_size, num_layers, nonlinearity='tanh', bidirectional=bidirectional, batch_first=True)\n",
    "    self.fc = nn.Linear(hidden_size * self.num_directions, output_size)\n",
    "    \n",
    "  def forward(self, x):\n",
    "    self.batch_size = x.size()[0]\n",
    "    hidden = self.init_hidden()  # h0のゼロベクトルを作成\n",
    "    emb = self.emb(x)\n",
    "    # emb.size() = (batch_size, seq_len, emb_size)\n",
    "    out, hidden = self.rnn(emb, hidden)\n",
    "    # out.size() = (batch_size, seq_len, hidden_size * num_directions)\n",
    "    out = self.fc(out[:, -1, :])\n",
    "    # out.size() = (batch_size, output_size)\n",
    "    return out\n",
    "    \n",
    "  def init_hidden(self):\n",
    "    hidden = torch.zeros(self.num_layers * self.num_directions, self.batch_size, self.hidden_size)\n",
    "    return hidden"
   ]
  },
  {
   "cell_type": "code",
   "execution_count": null,
   "metadata": {
    "colab": {
     "base_uri": "https://localhost:8080/",
     "height": 179
    },
    "colab_type": "code",
    "id": "BDDTMWDcwi4c",
    "outputId": "b03b13c4-6bc3-437e-c42f-74624a7f3e00"
   },
   "outputs": [],
   "source": [
    "# パラメータの設定\n",
    "VOCAB_SIZE = len(set(word2id.values())) + 1  # 辞書のID数 + パディングID\n",
    "EMB_SIZE = 300\n",
    "PADDING_IDX = len(set(word2id.values()))\n",
    "OUTPUT_SIZE = 4\n",
    "HIDDEN_SIZE = 50\n",
    "NUM_LAYERS = 1\n",
    "LEARNING_RATE = 5e-2\n",
    "BATCH_SIZE = 32\n",
    "NUM_EPOCHS = 10\n",
    "\n",
    "# モデルの定義\n",
    "model = RNN(VOCAB_SIZE, EMB_SIZE, PADDING_IDX, OUTPUT_SIZE, HIDDEN_SIZE, NUM_LAYERS, emb_weights=weights)\n",
    "\n",
    "# 損失関数の定義\n",
    "criterion = nn.CrossEntropyLoss()\n",
    "\n",
    "# オプティマイザの定義\n",
    "optimizer = torch.optim.SGD(model.parameters(), lr=LEARNING_RATE)\n",
    "\n",
    "# デバイスの指定\n",
    "#device = torch.device('cuda')\n",
    "device = torch.device('cpu')\n",
    "\n",
    "# モデルの学習\n",
    "log = train_model(dataset_train, dataset_valid, BATCH_SIZE, model, criterion, optimizer, NUM_EPOCHS, collate_fn=Padsequence(PADDING_IDX), device=device)"
   ]
  },
  {
   "cell_type": "code",
   "execution_count": null,
   "metadata": {
    "colab": {
     "base_uri": "https://localhost:8080/",
     "height": 370
    },
    "colab_type": "code",
    "id": "Y4DiZo0D385u",
    "outputId": "114f791f-256b-43b7-e6a5-9d73bd0780e1"
   },
   "outputs": [],
   "source": [
    "# ログの可視化\n",
    "visualize_logs(log)\n",
    "\n",
    "# 正解率の算出\n",
    "_, acc_train = calculate_loss_and_accuracy(model, dataset_train, device)\n",
    "_, acc_test = calculate_loss_and_accuracy(model, dataset_test, device)\n",
    "print(f'正解率（学習データ）：{acc_train:.3f}')\n",
    "print(f'正解率（評価データ）：{acc_test:.3f}')"
   ]
  },
  {
   "cell_type": "markdown",
   "metadata": {},
   "source": [
    "# No85"
   ]
  },
  {
   "cell_type": "code",
   "execution_count": null,
   "metadata": {},
   "outputs": [],
   "source": []
  }
 ],
 "metadata": {
  "kernelspec": {
   "display_name": "Python 3",
   "language": "python",
   "name": "python3"
  },
  "language_info": {
   "codemirror_mode": {
    "name": "ipython",
    "version": 3
   },
   "file_extension": ".py",
   "mimetype": "text/x-python",
   "name": "python",
   "nbconvert_exporter": "python",
   "pygments_lexer": "ipython3",
   "version": "3.7.4"
  }
 },
 "nbformat": 4,
 "nbformat_minor": 4
}
