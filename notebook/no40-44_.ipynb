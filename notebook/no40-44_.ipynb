{
 "cells": [
  {
   "cell_type": "code",
   "execution_count": 16,
   "metadata": {},
   "outputs": [],
   "source": [
    "!cat ai.ja/ai.ja.txt | cabocha -f1 > ai.ja.txt.parsed"
   ]
  },
  {
   "cell_type": "code",
   "execution_count": 14,
   "metadata": {},
   "outputs": [],
   "source": [
    "!cat neko.txt | cabocha -f1 > neko.txt.cabocha"
   ]
  },
  {
   "cell_type": "markdown",
   "metadata": {},
   "source": [
    "# No40"
   ]
  },
  {
   "cell_type": "code",
   "execution_count": 17,
   "metadata": {},
   "outputs": [
    {
     "name": "stdout",
     "output_type": "stream",
     "text": [
      "{'surface': '『', 'base': '『', 'pos': '記号', 'pos1': '括弧開'}\n",
      "{'surface': '日本', 'base': '日本', 'pos': '名詞', 'pos1': '固有名詞'}\n",
      "{'surface': '大', 'base': '大', 'pos': '接頭詞', 'pos1': '名詞接続'}\n",
      "{'surface': '百科全書', 'base': '百科全書', 'pos': '名詞', 'pos1': '一般'}\n",
      "{'surface': '(', 'base': '*', 'pos': '名詞', 'pos1': 'サ変接続'}\n",
      "{'surface': 'ニッポニカ', 'base': '*', 'pos': '名詞', 'pos1': '一般'}\n",
      "{'surface': ')』', 'base': '*', 'pos': '名詞', 'pos1': 'サ変接続'}\n",
      "{'surface': 'の', 'base': 'の', 'pos': '助詞', 'pos1': '連体化'}\n",
      "{'surface': '解説', 'base': '解説', 'pos': '名詞', 'pos1': 'サ変接続'}\n",
      "{'surface': 'で', 'base': 'で', 'pos': '助詞', 'pos1': '格助詞'}\n",
      "{'surface': '、', 'base': '、', 'pos': '記号', 'pos1': '読点'}\n",
      "{'surface': '情報', 'base': '情報', 'pos': '名詞', 'pos1': '一般'}\n",
      "{'surface': '工学', 'base': '工学', 'pos': '名詞', 'pos1': '一般'}\n",
      "{'surface': '者', 'base': '者', 'pos': '名詞', 'pos1': '接尾'}\n",
      "{'surface': '・', 'base': '・', 'pos': '記号', 'pos1': '一般'}\n",
      "{'surface': '通信', 'base': '通信', 'pos': '名詞', 'pos1': 'サ変接続'}\n",
      "{'surface': '工学', 'base': '工学', 'pos': '名詞', 'pos1': '一般'}\n",
      "{'surface': '者', 'base': '者', 'pos': '名詞', 'pos1': '接尾'}\n",
      "{'surface': 'の', 'base': 'の', 'pos': '助詞', 'pos1': '連体化'}\n",
      "{'surface': '佐藤', 'base': '佐藤', 'pos': '名詞', 'pos1': '固有名詞'}\n",
      "{'surface': '理', 'base': '理', 'pos': '名詞', 'pos1': '一般'}\n",
      "{'surface': '史', 'base': '史', 'pos': '名詞', 'pos1': '接尾'}\n",
      "{'surface': 'は', 'base': 'は', 'pos': '助詞', 'pos1': '係助詞'}\n",
      "{'surface': '次', 'base': '次', 'pos': '名詞', 'pos1': '一般'}\n",
      "{'surface': 'の', 'base': 'の', 'pos': '助詞', 'pos1': '連体化'}\n",
      "{'surface': 'よう', 'base': 'よう', 'pos': '名詞', 'pos1': '非自立'}\n",
      "{'surface': 'に', 'base': 'に', 'pos': '助詞', 'pos1': '副詞化'}\n",
      "{'surface': '述べ', 'base': '述べる', 'pos': '動詞', 'pos1': '自立'}\n",
      "{'surface': 'て', 'base': 'て', 'pos': '助詞', 'pos1': '接続助詞'}\n",
      "{'surface': 'いる', 'base': 'いる', 'pos': '動詞', 'pos1': '非自立'}\n",
      "{'surface': '。', 'base': '。', 'pos': '記号', 'pos1': '句点'}\n"
     ]
    }
   ],
   "source": [
    "class Morph:\n",
    "    def __init__(self, dc):\n",
    "        self.surface = dc['surface']\n",
    "        self.base = dc['base']\n",
    "        self.pos = dc['pos']\n",
    "        self.pos1 = dc['pos1']\n",
    "\n",
    "\n",
    "def parseCabocha(block):\n",
    "    res = []\n",
    "    for line in block.split('\\n'):\n",
    "        if line == '':\n",
    "            return res\n",
    "        elif line[0] == '*':\n",
    "            continue\n",
    "        (surface, attr) = line.split('\\t')\n",
    "        attr = attr.split(',')\n",
    "        lineDict = {\n",
    "            'surface': surface,\n",
    "            'base': attr[6],\n",
    "            'pos': attr[0],\n",
    "            'pos1': attr[1]\n",
    "        }\n",
    "        res.append(Morph(lineDict))\n",
    "\n",
    "\n",
    "filename = 'ai.ja.txt.parsed'\n",
    "with open(filename, mode='rt', encoding='utf-8') as f:\n",
    "    blockList = f.read().split('EOS\\n')\n",
    "blockList = list(filter(lambda x: x != '', blockList))\n",
    "blockList = [parseCabocha(block) for block in blockList]\n",
    "for m in blockList[2]:\n",
    "    print(vars(m))"
   ]
  },
  {
   "cell_type": "markdown",
   "metadata": {},
   "source": [
    "# No41"
   ]
  },
  {
   "cell_type": "code",
   "execution_count": 18,
   "metadata": {},
   "outputs": [
    {
     "name": "stdout",
     "output_type": "stream",
     "text": [
      "['一方', '、'] 2 []\n",
      "['計算', '知能'] 12 []\n",
      "['（', 'CI', '）', 'は'] 4 [0]\n",
      "['開発', 'や'] 5 []\n",
      "['学習', 'を'] 6 [2]\n",
      "['繰り返す'] 8 [3]\n",
      "['こと', 'を'] 8 [4]\n",
      "['基本', 'と'] 9 []\n",
      "['し', 'て', 'いる'] 12 [5, 6]\n",
      "['（', '例えば', '、'] 12 [7]\n",
      "['パラメータ', '調整', '、'] 12 []\n",
      "['コネクショニズム', 'の'] 21 []\n",
      "['システム', '）', '。'] 16 [1, 8, 9, 10]\n",
      "['学習', 'は'] 15 []\n",
      "['経験', 'に'] 16 []\n",
      "['基づく'] 21 [13]\n",
      "['手法', 'で', 'あり', '、'] 18 [12, 14]\n",
      "['非', '記号', '的', 'AI', '、'] 20 []\n",
      "['美しく', 'ない'] 20 [16]\n",
      "['AI', '、'] 21 []\n",
      "['ソフトコンピューティング', 'と'] 26 [17, 18]\n",
      "['関係', 'し', 'て', 'いる', '。'] 23 [11, 15, 19]\n",
      "['その'] 26 []\n",
      "['手法', 'として', 'は', '、'] 25 [21]\n",
      "['以下', 'の'] 26 []\n",
      "['もの', 'が'] -1 [23]\n",
      "['ある', '。'] -1 [20, 22, 24, 25, 26]\n"
     ]
    }
   ],
   "source": [
    "class Morph:\n",
    "    def __init__(self, dc):\n",
    "        self.surface = dc['surface']\n",
    "        self.base = dc['base']\n",
    "        self.pos = dc['pos']\n",
    "        self.pos1 = dc['pos1']\n",
    "\n",
    "\n",
    "class Chunk:\n",
    "    def __init__(self, morphs, dst):\n",
    "        self.morphs = morphs    # 形態素（Morphオブジェクト）のリスト\n",
    "        self.dst = dst          # 係り先文節インデックス番号\n",
    "        self.srcs = []          # 係り元文節インデックス番号のリスト\n",
    "\n",
    "\n",
    "def parseCabocha(block):\n",
    "    def checkCreateChunk(tmp):\n",
    "        if len(tmp) > 0:\n",
    "            c = Chunk(tmp, dst)\n",
    "            res.append(c)\n",
    "            tmp = []\n",
    "        return tmp\n",
    "\n",
    "    res = []\n",
    "    tmp = []\n",
    "    dst = None\n",
    "    for line in block.split('\\n'):\n",
    "        if line == '':\n",
    "            tmp = checkCreateChunk(tmp)\n",
    "        elif line[0] == '*':\n",
    "            dst = line.split(' ')[2].rstrip('D')\n",
    "            tmp = checkCreateChunk(tmp)\n",
    "        else:\n",
    "            (surface, attr) = line.split('\\t')\n",
    "            attr = attr.split(',')\n",
    "            lineDict = {\n",
    "                'surface': surface,\n",
    "                'base': attr[6],\n",
    "                'pos': attr[0],\n",
    "                'pos1': attr[1]\n",
    "            }\n",
    "            tmp.append(Morph(lineDict))\n",
    "\n",
    "    for i, r in enumerate(res):\n",
    "        res[int(r.dst)].srcs.append(i)\n",
    "    return res\n",
    "\n",
    "\n",
    "filename = 'ai.ja.txt.parsed'\n",
    "with open(filename, mode='rt', encoding='utf-8') as f:\n",
    "    blockList = f.read().split('EOS\\n')\n",
    "blockList = list(filter(lambda x: x != '', blockList))\n",
    "blockList = [parseCabocha(block) for block in blockList]\n",
    "for m in blockList[7]:\n",
    "    print([mo.surface for mo in m.morphs], m.dst, m.srcs)"
   ]
  },
  {
   "cell_type": "code",
   "execution_count": null,
   "metadata": {},
   "outputs": [],
   "source": []
  }
 ],
 "metadata": {
  "kernelspec": {
   "display_name": "Python 3",
   "language": "python",
   "name": "python3"
  },
  "language_info": {
   "codemirror_mode": {
    "name": "ipython",
    "version": 3
   },
   "file_extension": ".py",
   "mimetype": "text/x-python",
   "name": "python",
   "nbconvert_exporter": "python",
   "pygments_lexer": "ipython3",
   "version": "3.7.3"
  }
 },
 "nbformat": 4,
 "nbformat_minor": 4
}
